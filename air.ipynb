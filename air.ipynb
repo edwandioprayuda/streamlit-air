{
 "cells": [
  {
   "attachments": {},
   "cell_type": "markdown",
   "metadata": {},
   "source": [
    "1. Menentukan Library yang akan di gunakan"
   ]
  },
  {
   "cell_type": "code",
   "execution_count": 47,
   "metadata": {},
   "outputs": [],
   "source": [
    "import numpy as np\n",
    "import pandas as pd\n",
    "from sklearn.preprocessing import StandardScaler\n",
    "from sklearn.model_selection import train_test_split\n",
    "from sklearn import svm\n",
    "from sklearn.metrics import accuracy_score"
   ]
  },
  {
   "attachments": {},
   "cell_type": "markdown",
   "metadata": {},
   "source": [
    "2. Load Dataset"
   ]
  },
  {
   "cell_type": "code",
   "execution_count": 48,
   "metadata": {},
   "outputs": [],
   "source": [
    "air_dataset = pd.read_csv('monitoringdata.csv')"
   ]
  },
  {
   "cell_type": "code",
   "execution_count": 49,
   "metadata": {},
   "outputs": [
    {
     "data": {
      "text/html": [
       "<div>\n",
       "<style scoped>\n",
       "    .dataframe tbody tr th:only-of-type {\n",
       "        vertical-align: middle;\n",
       "    }\n",
       "\n",
       "    .dataframe tbody tr th {\n",
       "        vertical-align: top;\n",
       "    }\n",
       "\n",
       "    .dataframe thead th {\n",
       "        text-align: right;\n",
       "    }\n",
       "</style>\n",
       "<table border=\"1\" class=\"dataframe\">\n",
       "  <thead>\n",
       "    <tr style=\"text-align: right;\">\n",
       "      <th></th>\n",
       "      <th>Agency</th>\n",
       "      <th>Region</th>\n",
       "      <th>siteName</th>\n",
       "      <th>SiteID</th>\n",
       "      <th>LawaSiteID</th>\n",
       "      <th>siteType</th>\n",
       "      <th>Latitude</th>\n",
       "      <th>Longitude</th>\n",
       "      <th>Property</th>\n",
       "      <th>DateCollected</th>\n",
       "      <th>Resample following exceedance?</th>\n",
       "      <th>Value</th>\n",
       "      <th>SwimIcon</th>\n",
       "      <th>SwimmingGuidelinesTestResultDescription</th>\n",
       "    </tr>\n",
       "  </thead>\n",
       "  <tbody>\n",
       "    <tr>\n",
       "      <th>0</th>\n",
       "      <td>Bay of Plenty Regional Council</td>\n",
       "      <td>Bay of Plenty region</td>\n",
       "      <td>FK325034</td>\n",
       "      <td>Lake Okareka at Steep St Reserve</td>\n",
       "      <td>EBOP-10005</td>\n",
       "      <td>Lake</td>\n",
       "      <td>-38.167698</td>\n",
       "      <td>176.347488</td>\n",
       "      <td>E-coli</td>\n",
       "      <td>10/25/2017 12:00</td>\n",
       "      <td>NaN</td>\n",
       "      <td>25.0</td>\n",
       "      <td>green</td>\n",
       "      <td>Suitable for swimming</td>\n",
       "    </tr>\n",
       "    <tr>\n",
       "      <th>1</th>\n",
       "      <td>Bay of Plenty Regional Council</td>\n",
       "      <td>Bay of Plenty region</td>\n",
       "      <td>FK325034</td>\n",
       "      <td>Lake Okareka at Steep St Reserve</td>\n",
       "      <td>EBOP-10005</td>\n",
       "      <td>Lake</td>\n",
       "      <td>-38.167698</td>\n",
       "      <td>176.347488</td>\n",
       "      <td>E-coli</td>\n",
       "      <td>10/29/2017 12:00</td>\n",
       "      <td>NaN</td>\n",
       "      <td>2.0</td>\n",
       "      <td>green</td>\n",
       "      <td>Suitable for swimming</td>\n",
       "    </tr>\n",
       "    <tr>\n",
       "      <th>2</th>\n",
       "      <td>Bay of Plenty Regional Council</td>\n",
       "      <td>Bay of Plenty region</td>\n",
       "      <td>FK325034</td>\n",
       "      <td>Lake Okareka at Steep St Reserve</td>\n",
       "      <td>EBOP-10005</td>\n",
       "      <td>Lake</td>\n",
       "      <td>-38.167698</td>\n",
       "      <td>176.347488</td>\n",
       "      <td>E-coli</td>\n",
       "      <td>11/5/2017 12:00</td>\n",
       "      <td>NaN</td>\n",
       "      <td>1.0</td>\n",
       "      <td>green</td>\n",
       "      <td>Suitable for swimming</td>\n",
       "    </tr>\n",
       "    <tr>\n",
       "      <th>3</th>\n",
       "      <td>Bay of Plenty Regional Council</td>\n",
       "      <td>Bay of Plenty region</td>\n",
       "      <td>FK325034</td>\n",
       "      <td>Lake Okareka at Steep St Reserve</td>\n",
       "      <td>EBOP-10005</td>\n",
       "      <td>Lake</td>\n",
       "      <td>-38.167698</td>\n",
       "      <td>176.347488</td>\n",
       "      <td>E-coli</td>\n",
       "      <td>11/13/2017 0:19</td>\n",
       "      <td>NaN</td>\n",
       "      <td>5.0</td>\n",
       "      <td>green</td>\n",
       "      <td>Suitable for swimming</td>\n",
       "    </tr>\n",
       "    <tr>\n",
       "      <th>4</th>\n",
       "      <td>Bay of Plenty Regional Council</td>\n",
       "      <td>Bay of Plenty region</td>\n",
       "      <td>FK325034</td>\n",
       "      <td>Lake Okareka at Steep St Reserve</td>\n",
       "      <td>EBOP-10005</td>\n",
       "      <td>Lake</td>\n",
       "      <td>-38.167698</td>\n",
       "      <td>176.347488</td>\n",
       "      <td>E-coli</td>\n",
       "      <td>11/19/2017 22:34</td>\n",
       "      <td>NaN</td>\n",
       "      <td>2.0</td>\n",
       "      <td>green</td>\n",
       "      <td>Suitable for swimming</td>\n",
       "    </tr>\n",
       "  </tbody>\n",
       "</table>\n",
       "</div>"
      ],
      "text/plain": [
       "                           Agency                Region  siteName  \\\n",
       "0  Bay of Plenty Regional Council  Bay of Plenty region  FK325034   \n",
       "1  Bay of Plenty Regional Council  Bay of Plenty region  FK325034   \n",
       "2  Bay of Plenty Regional Council  Bay of Plenty region  FK325034   \n",
       "3  Bay of Plenty Regional Council  Bay of Plenty region  FK325034   \n",
       "4  Bay of Plenty Regional Council  Bay of Plenty region  FK325034   \n",
       "\n",
       "                             SiteID  LawaSiteID siteType   Latitude  \\\n",
       "0  Lake Okareka at Steep St Reserve  EBOP-10005     Lake -38.167698   \n",
       "1  Lake Okareka at Steep St Reserve  EBOP-10005     Lake -38.167698   \n",
       "2  Lake Okareka at Steep St Reserve  EBOP-10005     Lake -38.167698   \n",
       "3  Lake Okareka at Steep St Reserve  EBOP-10005     Lake -38.167698   \n",
       "4  Lake Okareka at Steep St Reserve  EBOP-10005     Lake -38.167698   \n",
       "\n",
       "    Longitude Property     DateCollected  Resample following exceedance?  \\\n",
       "0  176.347488   E-coli  10/25/2017 12:00                             NaN   \n",
       "1  176.347488   E-coli  10/29/2017 12:00                             NaN   \n",
       "2  176.347488   E-coli   11/5/2017 12:00                             NaN   \n",
       "3  176.347488   E-coli   11/13/2017 0:19                             NaN   \n",
       "4  176.347488   E-coli  11/19/2017 22:34                             NaN   \n",
       "\n",
       "   Value SwimIcon SwimmingGuidelinesTestResultDescription  \n",
       "0   25.0    green                   Suitable for swimming  \n",
       "1    2.0    green                   Suitable for swimming  \n",
       "2    1.0    green                   Suitable for swimming  \n",
       "3    5.0    green                   Suitable for swimming  \n",
       "4    2.0    green                   Suitable for swimming  "
      ]
     },
     "execution_count": 49,
     "metadata": {},
     "output_type": "execute_result"
    }
   ],
   "source": [
    "air_dataset.head()"
   ]
  },
  {
   "cell_type": "code",
   "execution_count": 50,
   "metadata": {},
   "outputs": [
    {
     "data": {
      "text/plain": [
       "(70886, 14)"
      ]
     },
     "execution_count": 50,
     "metadata": {},
     "output_type": "execute_result"
    }
   ],
   "source": [
    "air_dataset.shape"
   ]
  },
  {
   "cell_type": "code",
   "execution_count": 51,
   "metadata": {},
   "outputs": [
    {
     "name": "stdout",
     "output_type": "stream",
     "text": [
      "<class 'pandas.core.frame.DataFrame'>\n",
      "RangeIndex: 70886 entries, 0 to 70885\n",
      "Data columns (total 14 columns):\n",
      " #   Column                                   Non-Null Count  Dtype  \n",
      "---  ------                                   --------------  -----  \n",
      " 0   Agency                                   70886 non-null  object \n",
      " 1   Region                                   70886 non-null  object \n",
      " 2   siteName                                 70886 non-null  object \n",
      " 3   SiteID                                   70886 non-null  object \n",
      " 4   LawaSiteID                               70886 non-null  object \n",
      " 5   siteType                                 70886 non-null  object \n",
      " 6   Latitude                                 70593 non-null  float64\n",
      " 7   Longitude                                70593 non-null  float64\n",
      " 8   Property                                 70886 non-null  object \n",
      " 9   DateCollected                            70886 non-null  object \n",
      " 10  Resample following exceedance?           56713 non-null  float64\n",
      " 11  Value                                    70505 non-null  float64\n",
      " 12  SwimIcon                                 70505 non-null  object \n",
      " 13  SwimmingGuidelinesTestResultDescription  68341 non-null  object \n",
      "dtypes: float64(4), object(10)\n",
      "memory usage: 7.6+ MB\n"
     ]
    }
   ],
   "source": [
    "# Melihat informasi data\n",
    "\n",
    "air_dataset.info()"
   ]
  },
  {
   "cell_type": "code",
   "execution_count": 52,
   "metadata": {},
   "outputs": [
    {
     "data": {
      "text/plain": [
       "Suitable for swimming      55454\n",
       "Unsuitable for swimming     7136\n",
       "Caution advised             5751\n",
       "Name: SwimmingGuidelinesTestResultDescription, dtype: int64"
      ]
     },
     "execution_count": 52,
     "metadata": {},
     "output_type": "execute_result"
    }
   ],
   "source": [
    "air_dataset['SwimmingGuidelinesTestResultDescription'].value_counts()"
   ]
  },
  {
   "cell_type": "code",
   "execution_count": 53,
   "metadata": {},
   "outputs": [
    {
     "data": {
      "text/plain": [
       "E-coli           32812\n",
       "Enterococci      26323\n",
       "Cyanobacteria    11751\n",
       "Name: Property, dtype: int64"
      ]
     },
     "execution_count": 53,
     "metadata": {},
     "output_type": "execute_result"
    }
   ],
   "source": [
    "air_dataset['Property'].value_counts()"
   ]
  },
  {
   "cell_type": "code",
   "execution_count": 54,
   "metadata": {},
   "outputs": [],
   "source": [
    "# memisahkan data dan label\n",
    "X = air_dataset.drop(columns=['Agency','Region','siteName', 'SiteID', 'LawaSiteID','siteType', 'Resample following exceedance?', 'DateCollected','SwimIcon','SwimmingGuidelinesTestResultDescription'], axis=11)\n",
    "Y = air_dataset['SwimmingGuidelinesTestResultDescription']"
   ]
  },
  {
   "cell_type": "code",
   "execution_count": 55,
   "metadata": {},
   "outputs": [
    {
     "name": "stdout",
     "output_type": "stream",
     "text": [
      "        Latitude   Longitude Property  Value\n",
      "0     -38.167698  176.347488   E-coli   25.0\n",
      "1     -38.167698  176.347488   E-coli    2.0\n",
      "2     -38.167698  176.347488   E-coli    1.0\n",
      "3     -38.167698  176.347488   E-coli    5.0\n",
      "4     -38.167698  176.347488   E-coli    2.0\n",
      "...          ...         ...      ...    ...\n",
      "70881 -42.376147  171.242946   E-coli   40.0\n",
      "70882 -42.376147  171.242946   E-coli  150.0\n",
      "70883 -42.376147  171.242946   E-coli   36.0\n",
      "70884 -42.376147  171.242946   E-coli  100.0\n",
      "70885 -42.376147  171.242946   E-coli  270.0\n",
      "\n",
      "[70886 rows x 4 columns]\n"
     ]
    }
   ],
   "source": [
    "print(X)"
   ]
  },
  {
   "cell_type": "code",
   "execution_count": 56,
   "metadata": {},
   "outputs": [
    {
     "name": "stdout",
     "output_type": "stream",
     "text": [
      "<class 'pandas.core.frame.DataFrame'>\n",
      "RangeIndex: 70886 entries, 0 to 70885\n",
      "Data columns (total 4 columns):\n",
      " #   Column     Non-Null Count  Dtype  \n",
      "---  ------     --------------  -----  \n",
      " 0   Latitude   70593 non-null  float64\n",
      " 1   Longitude  70593 non-null  float64\n",
      " 2   Property   70886 non-null  object \n",
      " 3   Value      70505 non-null  float64\n",
      "dtypes: float64(3), object(1)\n",
      "memory usage: 2.2+ MB\n"
     ]
    }
   ],
   "source": [
    "X.info()"
   ]
  },
  {
   "cell_type": "code",
   "execution_count": 57,
   "metadata": {},
   "outputs": [],
   "source": [
    "data_cleaned = air_dataset.dropna(subset=['SwimmingGuidelinesTestResultDescription'])\n",
    "X = data_cleaned[['Latitude', 'Longitude', 'Value', 'Property']]\n",
    "Y = data_cleaned['SwimmingGuidelinesTestResultDescription']"
   ]
  },
  {
   "cell_type": "code",
   "execution_count": 58,
   "metadata": {},
   "outputs": [
    {
     "name": "stderr",
     "output_type": "stream",
     "text": [
      "C:\\Users\\LENOVO\\AppData\\Local\\Temp\\ipykernel_132\\3168654167.py:7: SettingWithCopyWarning: \n",
      "A value is trying to be set on a copy of a slice from a DataFrame.\n",
      "Try using .loc[row_indexer,col_indexer] = value instead\n",
      "\n",
      "See the caveats in the documentation: https://pandas.pydata.org/pandas-docs/stable/user_guide/indexing.html#returning-a-view-versus-a-copy\n",
      "  X['Property'] = X['Property'].replace(label_mapping)\n"
     ]
    }
   ],
   "source": [
    "label_mapping = {\n",
    "    'E-coli': 1,\n",
    "    'Enterococci': 2,\n",
    "    'Cyanobacteria': 3\n",
    "}\n",
    "\n",
    "X['Property'] = X['Property'].replace(label_mapping)"
   ]
  },
  {
   "cell_type": "code",
   "execution_count": 59,
   "metadata": {},
   "outputs": [
    {
     "name": "stderr",
     "output_type": "stream",
     "text": [
      "C:\\Users\\LENOVO\\AppData\\Local\\Temp\\ipykernel_132\\4194110412.py:4: SettingWithCopyWarning: \n",
      "A value is trying to be set on a copy of a slice from a DataFrame.\n",
      "Try using .loc[row_indexer,col_indexer] = value instead\n",
      "\n",
      "See the caveats in the documentation: https://pandas.pydata.org/pandas-docs/stable/user_guide/indexing.html#returning-a-view-versus-a-copy\n",
      "  X.loc[:, 'Property'] = X['Property'].astype('object')\n"
     ]
    }
   ],
   "source": [
    "from sklearn.impute import SimpleImputer\n",
    "\n",
    "# Ubah tipe data kolom \"Property\" menjadi objek\n",
    "X.loc[:, 'Property'] = X['Property'].astype('object')\n",
    "\n",
    "# Gunakan SimpleImputer dengan strategi \"most_frequent\" untuk mengisi nilai yang hilang\n",
    "imputer = SimpleImputer(strategy='most_frequent')\n",
    "X = imputer.fit_transform(X)"
   ]
  },
  {
   "cell_type": "code",
   "execution_count": 60,
   "metadata": {},
   "outputs": [],
   "source": [
    "label_mapping = {\n",
    "    'Suitable for swimming': 0,\n",
    "    'Unsuitable for swimming': 1,\n",
    "    'Caution advised': 2\n",
    "}\n",
    "\n",
    "Y = Y.replace(label_mapping)\n"
   ]
  },
  {
   "cell_type": "code",
   "execution_count": 61,
   "metadata": {},
   "outputs": [
    {
     "name": "stdout",
     "output_type": "stream",
     "text": [
      "0        0\n",
      "1        0\n",
      "2        0\n",
      "3        0\n",
      "4        0\n",
      "        ..\n",
      "70881    0\n",
      "70882    0\n",
      "70883    0\n",
      "70884    0\n",
      "70885    2\n",
      "Name: SwimmingGuidelinesTestResultDescription, Length: 68341, dtype: int64\n"
     ]
    }
   ],
   "source": [
    "print(Y)"
   ]
  },
  {
   "cell_type": "code",
   "execution_count": 62,
   "metadata": {},
   "outputs": [
    {
     "name": "stdout",
     "output_type": "stream",
     "text": [
      "0: 55454\n",
      "1: 7136\n",
      "2: 5751\n"
     ]
    }
   ],
   "source": [
    "import numpy as np\n",
    "\n",
    "unique_values, value_counts = np.unique(Y, return_counts=True)\n",
    "\n",
    "for value, count in zip(unique_values, value_counts):\n",
    "    print(f\"{value}: {count}\")"
   ]
  },
  {
   "cell_type": "code",
   "execution_count": 63,
   "metadata": {},
   "outputs": [
    {
     "name": "stdout",
     "output_type": "stream",
     "text": [
      "[[-38.167698 176.347488 25.0 1]\n",
      " [-38.167698 176.347488 2.0 1]\n",
      " [-38.167698 176.347488 1.0 1]\n",
      " ...\n",
      " [-42.37614725 171.2429464 36.0 1]\n",
      " [-42.37614725 171.2429464 100.0 1]\n",
      " [-42.37614725 171.2429464 270.0 1]]\n"
     ]
    }
   ],
   "source": [
    "print(X)"
   ]
  },
  {
   "cell_type": "code",
   "execution_count": 64,
   "metadata": {},
   "outputs": [
    {
     "name": "stdout",
     "output_type": "stream",
     "text": [
      "0        0\n",
      "1        0\n",
      "2        0\n",
      "3        0\n",
      "4        0\n",
      "        ..\n",
      "70881    0\n",
      "70882    0\n",
      "70883    0\n",
      "70884    0\n",
      "70885    2\n",
      "Name: SwimmingGuidelinesTestResultDescription, Length: 68341, dtype: int64\n"
     ]
    }
   ],
   "source": [
    "print(Y)"
   ]
  },
  {
   "attachments": {},
   "cell_type": "markdown",
   "metadata": {},
   "source": [
    "3. Standarisasi Data"
   ]
  },
  {
   "cell_type": "code",
   "execution_count": 65,
   "metadata": {},
   "outputs": [],
   "source": [
    "scaler = StandardScaler()"
   ]
  },
  {
   "cell_type": "code",
   "execution_count": 66,
   "metadata": {},
   "outputs": [
    {
     "data": {
      "text/html": [
       "<style>#sk-container-id-3 {color: black;background-color: white;}#sk-container-id-3 pre{padding: 0;}#sk-container-id-3 div.sk-toggleable {background-color: white;}#sk-container-id-3 label.sk-toggleable__label {cursor: pointer;display: block;width: 100%;margin-bottom: 0;padding: 0.3em;box-sizing: border-box;text-align: center;}#sk-container-id-3 label.sk-toggleable__label-arrow:before {content: \"▸\";float: left;margin-right: 0.25em;color: #696969;}#sk-container-id-3 label.sk-toggleable__label-arrow:hover:before {color: black;}#sk-container-id-3 div.sk-estimator:hover label.sk-toggleable__label-arrow:before {color: black;}#sk-container-id-3 div.sk-toggleable__content {max-height: 0;max-width: 0;overflow: hidden;text-align: left;background-color: #f0f8ff;}#sk-container-id-3 div.sk-toggleable__content pre {margin: 0.2em;color: black;border-radius: 0.25em;background-color: #f0f8ff;}#sk-container-id-3 input.sk-toggleable__control:checked~div.sk-toggleable__content {max-height: 200px;max-width: 100%;overflow: auto;}#sk-container-id-3 input.sk-toggleable__control:checked~label.sk-toggleable__label-arrow:before {content: \"▾\";}#sk-container-id-3 div.sk-estimator input.sk-toggleable__control:checked~label.sk-toggleable__label {background-color: #d4ebff;}#sk-container-id-3 div.sk-label input.sk-toggleable__control:checked~label.sk-toggleable__label {background-color: #d4ebff;}#sk-container-id-3 input.sk-hidden--visually {border: 0;clip: rect(1px 1px 1px 1px);clip: rect(1px, 1px, 1px, 1px);height: 1px;margin: -1px;overflow: hidden;padding: 0;position: absolute;width: 1px;}#sk-container-id-3 div.sk-estimator {font-family: monospace;background-color: #f0f8ff;border: 1px dotted black;border-radius: 0.25em;box-sizing: border-box;margin-bottom: 0.5em;}#sk-container-id-3 div.sk-estimator:hover {background-color: #d4ebff;}#sk-container-id-3 div.sk-parallel-item::after {content: \"\";width: 100%;border-bottom: 1px solid gray;flex-grow: 1;}#sk-container-id-3 div.sk-label:hover label.sk-toggleable__label {background-color: #d4ebff;}#sk-container-id-3 div.sk-serial::before {content: \"\";position: absolute;border-left: 1px solid gray;box-sizing: border-box;top: 0;bottom: 0;left: 50%;z-index: 0;}#sk-container-id-3 div.sk-serial {display: flex;flex-direction: column;align-items: center;background-color: white;padding-right: 0.2em;padding-left: 0.2em;position: relative;}#sk-container-id-3 div.sk-item {position: relative;z-index: 1;}#sk-container-id-3 div.sk-parallel {display: flex;align-items: stretch;justify-content: center;background-color: white;position: relative;}#sk-container-id-3 div.sk-item::before, #sk-container-id-3 div.sk-parallel-item::before {content: \"\";position: absolute;border-left: 1px solid gray;box-sizing: border-box;top: 0;bottom: 0;left: 50%;z-index: -1;}#sk-container-id-3 div.sk-parallel-item {display: flex;flex-direction: column;z-index: 1;position: relative;background-color: white;}#sk-container-id-3 div.sk-parallel-item:first-child::after {align-self: flex-end;width: 50%;}#sk-container-id-3 div.sk-parallel-item:last-child::after {align-self: flex-start;width: 50%;}#sk-container-id-3 div.sk-parallel-item:only-child::after {width: 0;}#sk-container-id-3 div.sk-dashed-wrapped {border: 1px dashed gray;margin: 0 0.4em 0.5em 0.4em;box-sizing: border-box;padding-bottom: 0.4em;background-color: white;}#sk-container-id-3 div.sk-label label {font-family: monospace;font-weight: bold;display: inline-block;line-height: 1.2em;}#sk-container-id-3 div.sk-label-container {text-align: center;}#sk-container-id-3 div.sk-container {/* jupyter's `normalize.less` sets `[hidden] { display: none; }` but bootstrap.min.css set `[hidden] { display: none !important; }` so we also need the `!important` here to be able to override the default hidden behavior on the sphinx rendered scikit-learn.org. See: https://github.com/scikit-learn/scikit-learn/issues/21755 */display: inline-block !important;position: relative;}#sk-container-id-3 div.sk-text-repr-fallback {display: none;}</style><div id=\"sk-container-id-3\" class=\"sk-top-container\"><div class=\"sk-text-repr-fallback\"><pre>StandardScaler()</pre><b>In a Jupyter environment, please rerun this cell to show the HTML representation or trust the notebook. <br />On GitHub, the HTML representation is unable to render, please try loading this page with nbviewer.org.</b></div><div class=\"sk-container\" hidden><div class=\"sk-item\"><div class=\"sk-estimator sk-toggleable\"><input class=\"sk-toggleable__control sk-hidden--visually\" id=\"sk-estimator-id-3\" type=\"checkbox\" checked><label for=\"sk-estimator-id-3\" class=\"sk-toggleable__label sk-toggleable__label-arrow\">StandardScaler</label><div class=\"sk-toggleable__content\"><pre>StandardScaler()</pre></div></div></div></div></div>"
      ],
      "text/plain": [
       "StandardScaler()"
      ]
     },
     "execution_count": 66,
     "metadata": {},
     "output_type": "execute_result"
    }
   ],
   "source": [
    "scaler.fit(X)"
   ]
  },
  {
   "cell_type": "code",
   "execution_count": 67,
   "metadata": {},
   "outputs": [],
   "source": [
    "standarized_data = scaler.transform(X)"
   ]
  },
  {
   "cell_type": "code",
   "execution_count": 68,
   "metadata": {},
   "outputs": [
    {
     "name": "stdout",
     "output_type": "stream",
     "text": [
      "[[ 0.90855572  0.79342662 -0.14086697 -0.93734091]\n",
      " [ 0.90855572  0.79342662 -0.15313303 -0.93734091]\n",
      " [ 0.90855572  0.79342662 -0.15366634 -0.93734091]\n",
      " ...\n",
      " [-0.71608814 -1.44063093 -0.1350006  -0.93734091]\n",
      " [-0.71608814 -1.44063093 -0.10086896 -0.93734091]\n",
      " [-0.71608814 -1.44063093 -0.0102068  -0.93734091]]\n"
     ]
    }
   ],
   "source": [
    "print(standarized_data)"
   ]
  },
  {
   "cell_type": "code",
   "execution_count": 69,
   "metadata": {},
   "outputs": [],
   "source": [
    "X = standarized_data"
   ]
  },
  {
   "cell_type": "code",
   "execution_count": 70,
   "metadata": {},
   "outputs": [
    {
     "name": "stdout",
     "output_type": "stream",
     "text": [
      "[[ 0.90855572  0.79342662 -0.14086697 -0.93734091]\n",
      " [ 0.90855572  0.79342662 -0.15313303 -0.93734091]\n",
      " [ 0.90855572  0.79342662 -0.15366634 -0.93734091]\n",
      " ...\n",
      " [-0.71608814 -1.44063093 -0.1350006  -0.93734091]\n",
      " [-0.71608814 -1.44063093 -0.10086896 -0.93734091]\n",
      " [-0.71608814 -1.44063093 -0.0102068  -0.93734091]]\n",
      "0        0\n",
      "1        0\n",
      "2        0\n",
      "3        0\n",
      "4        0\n",
      "        ..\n",
      "70881    0\n",
      "70882    0\n",
      "70883    0\n",
      "70884    0\n",
      "70885    2\n",
      "Name: SwimmingGuidelinesTestResultDescription, Length: 68341, dtype: int64\n"
     ]
    }
   ],
   "source": [
    "print(X)\n",
    "print(Y)"
   ]
  },
  {
   "attachments": {},
   "cell_type": "markdown",
   "metadata": {},
   "source": [
    "4. Memisahkan Data Training dan Data Testing"
   ]
  },
  {
   "cell_type": "code",
   "execution_count": 71,
   "metadata": {},
   "outputs": [],
   "source": [
    "X_train, X_test, Y_train, Y_test = train_test_split(X,Y, test_size=0.2,stratify=Y, random_state=2)"
   ]
  },
  {
   "cell_type": "code",
   "execution_count": 72,
   "metadata": {},
   "outputs": [
    {
     "name": "stdout",
     "output_type": "stream",
     "text": [
      "(68341, 4) (54672, 4) (13669, 4)\n"
     ]
    }
   ],
   "source": [
    "print(X.shape, X_train.shape, X_test.shape)"
   ]
  },
  {
   "attachments": {},
   "cell_type": "markdown",
   "metadata": {},
   "source": [
    "5. Membuat data latih menggunakan algoritma SVM"
   ]
  },
  {
   "cell_type": "code",
   "execution_count": 73,
   "metadata": {},
   "outputs": [],
   "source": [
    "classifier = svm.SVC(kernel = 'linear')"
   ]
  },
  {
   "cell_type": "code",
   "execution_count": 74,
   "metadata": {},
   "outputs": [
    {
     "data": {
      "text/html": [
       "<style>#sk-container-id-4 {color: black;background-color: white;}#sk-container-id-4 pre{padding: 0;}#sk-container-id-4 div.sk-toggleable {background-color: white;}#sk-container-id-4 label.sk-toggleable__label {cursor: pointer;display: block;width: 100%;margin-bottom: 0;padding: 0.3em;box-sizing: border-box;text-align: center;}#sk-container-id-4 label.sk-toggleable__label-arrow:before {content: \"▸\";float: left;margin-right: 0.25em;color: #696969;}#sk-container-id-4 label.sk-toggleable__label-arrow:hover:before {color: black;}#sk-container-id-4 div.sk-estimator:hover label.sk-toggleable__label-arrow:before {color: black;}#sk-container-id-4 div.sk-toggleable__content {max-height: 0;max-width: 0;overflow: hidden;text-align: left;background-color: #f0f8ff;}#sk-container-id-4 div.sk-toggleable__content pre {margin: 0.2em;color: black;border-radius: 0.25em;background-color: #f0f8ff;}#sk-container-id-4 input.sk-toggleable__control:checked~div.sk-toggleable__content {max-height: 200px;max-width: 100%;overflow: auto;}#sk-container-id-4 input.sk-toggleable__control:checked~label.sk-toggleable__label-arrow:before {content: \"▾\";}#sk-container-id-4 div.sk-estimator input.sk-toggleable__control:checked~label.sk-toggleable__label {background-color: #d4ebff;}#sk-container-id-4 div.sk-label input.sk-toggleable__control:checked~label.sk-toggleable__label {background-color: #d4ebff;}#sk-container-id-4 input.sk-hidden--visually {border: 0;clip: rect(1px 1px 1px 1px);clip: rect(1px, 1px, 1px, 1px);height: 1px;margin: -1px;overflow: hidden;padding: 0;position: absolute;width: 1px;}#sk-container-id-4 div.sk-estimator {font-family: monospace;background-color: #f0f8ff;border: 1px dotted black;border-radius: 0.25em;box-sizing: border-box;margin-bottom: 0.5em;}#sk-container-id-4 div.sk-estimator:hover {background-color: #d4ebff;}#sk-container-id-4 div.sk-parallel-item::after {content: \"\";width: 100%;border-bottom: 1px solid gray;flex-grow: 1;}#sk-container-id-4 div.sk-label:hover label.sk-toggleable__label {background-color: #d4ebff;}#sk-container-id-4 div.sk-serial::before {content: \"\";position: absolute;border-left: 1px solid gray;box-sizing: border-box;top: 0;bottom: 0;left: 50%;z-index: 0;}#sk-container-id-4 div.sk-serial {display: flex;flex-direction: column;align-items: center;background-color: white;padding-right: 0.2em;padding-left: 0.2em;position: relative;}#sk-container-id-4 div.sk-item {position: relative;z-index: 1;}#sk-container-id-4 div.sk-parallel {display: flex;align-items: stretch;justify-content: center;background-color: white;position: relative;}#sk-container-id-4 div.sk-item::before, #sk-container-id-4 div.sk-parallel-item::before {content: \"\";position: absolute;border-left: 1px solid gray;box-sizing: border-box;top: 0;bottom: 0;left: 50%;z-index: -1;}#sk-container-id-4 div.sk-parallel-item {display: flex;flex-direction: column;z-index: 1;position: relative;background-color: white;}#sk-container-id-4 div.sk-parallel-item:first-child::after {align-self: flex-end;width: 50%;}#sk-container-id-4 div.sk-parallel-item:last-child::after {align-self: flex-start;width: 50%;}#sk-container-id-4 div.sk-parallel-item:only-child::after {width: 0;}#sk-container-id-4 div.sk-dashed-wrapped {border: 1px dashed gray;margin: 0 0.4em 0.5em 0.4em;box-sizing: border-box;padding-bottom: 0.4em;background-color: white;}#sk-container-id-4 div.sk-label label {font-family: monospace;font-weight: bold;display: inline-block;line-height: 1.2em;}#sk-container-id-4 div.sk-label-container {text-align: center;}#sk-container-id-4 div.sk-container {/* jupyter's `normalize.less` sets `[hidden] { display: none; }` but bootstrap.min.css set `[hidden] { display: none !important; }` so we also need the `!important` here to be able to override the default hidden behavior on the sphinx rendered scikit-learn.org. See: https://github.com/scikit-learn/scikit-learn/issues/21755 */display: inline-block !important;position: relative;}#sk-container-id-4 div.sk-text-repr-fallback {display: none;}</style><div id=\"sk-container-id-4\" class=\"sk-top-container\"><div class=\"sk-text-repr-fallback\"><pre>SVC(kernel=&#x27;linear&#x27;)</pre><b>In a Jupyter environment, please rerun this cell to show the HTML representation or trust the notebook. <br />On GitHub, the HTML representation is unable to render, please try loading this page with nbviewer.org.</b></div><div class=\"sk-container\" hidden><div class=\"sk-item\"><div class=\"sk-estimator sk-toggleable\"><input class=\"sk-toggleable__control sk-hidden--visually\" id=\"sk-estimator-id-4\" type=\"checkbox\" checked><label for=\"sk-estimator-id-4\" class=\"sk-toggleable__label sk-toggleable__label-arrow\">SVC</label><div class=\"sk-toggleable__content\"><pre>SVC(kernel=&#x27;linear&#x27;)</pre></div></div></div></div></div>"
      ],
      "text/plain": [
       "SVC(kernel='linear')"
      ]
     },
     "execution_count": 74,
     "metadata": {},
     "output_type": "execute_result"
    }
   ],
   "source": [
    "classifier.fit(X_train, Y_train)"
   ]
  },
  {
   "attachments": {},
   "cell_type": "markdown",
   "metadata": {},
   "source": [
    "6. Membuat model evaluasi untuk mengukur tingkat akurasi"
   ]
  },
  {
   "cell_type": "code",
   "execution_count": 75,
   "metadata": {},
   "outputs": [],
   "source": [
    "X_train_prediction = classifier.predict(X_train)\n",
    "training_data_accuracy = accuracy_score(X_train_prediction, Y_train)"
   ]
  },
  {
   "cell_type": "code",
   "execution_count": 76,
   "metadata": {},
   "outputs": [
    {
     "name": "stdout",
     "output_type": "stream",
     "text": [
      "Akurasi data training adalah =  0.9625036581796897\n"
     ]
    }
   ],
   "source": [
    "print('Akurasi data training adalah = ', training_data_accuracy)"
   ]
  },
  {
   "cell_type": "code",
   "execution_count": 77,
   "metadata": {},
   "outputs": [],
   "source": [
    "X_test_prediction = classifier.predict(X_test)\n",
    "test_data_accuracy = accuracy_score(X_test_prediction, Y_test)"
   ]
  },
  {
   "cell_type": "code",
   "execution_count": 78,
   "metadata": {},
   "outputs": [
    {
     "name": "stdout",
     "output_type": "stream",
     "text": [
      "Akurasi data testing adlaah =  0.9653961518765088\n"
     ]
    }
   ],
   "source": [
    "print('Akurasi data testing adlaah = ', test_data_accuracy)"
   ]
  },
  {
   "cell_type": "code",
   "execution_count": 79,
   "metadata": {},
   "outputs": [],
   "source": [
    "# Mengimpor library \n",
    "\n",
    "from sklearn.linear_model import LogisticRegression\n",
    "import math\n",
    "from sklearn.metrics import mean_squared_error\n",
    "from sklearn.metrics import mean_absolute_error\n",
    "from sklearn.metrics import r2_score\n",
    "from sklearn.metrics import confusion_matrix\n",
    "from sklearn.metrics import accuracy_score\n",
    "from sklearn.metrics import f1_score\n",
    "from sklearn.metrics import recall_score\n",
    "from sklearn.metrics import precision_score \n",
    "from sklearn.metrics import classification_report"
   ]
  },
  {
   "cell_type": "code",
   "execution_count": 80,
   "metadata": {},
   "outputs": [
    {
     "name": "stdout",
     "output_type": "stream",
     "text": [
      "Accuracy_Score : 0.96 \n",
      "MSE : 0.11 \n",
      "MAE : 0.06 \n",
      "RMSE : 0.33 \n",
      "r_score : 0.71 \n"
     ]
    }
   ],
   "source": [
    "# Melakukan prediksi pada data uji\n",
    "\n",
    "logreg = LogisticRegression(multi_class='auto', solver='lbfgs')\n",
    "logreg.fit(X_train, Y_train)\n",
    "\n",
    "Y_pred = logreg.predict(X_test)\n",
    "\n",
    "print(\"Accuracy_Score : %.2f \"% accuracy_score(Y_test,Y_pred))\n",
    "print(\"MSE : %.2f \"% mean_squared_error(Y_test,Y_pred))\n",
    "print(\"MAE : %.2f \"% mean_absolute_error(Y_test,Y_pred))\n",
    "print(\"RMSE : %.2f \"% math.sqrt(mean_squared_error(Y_test,Y_pred)))\n",
    "print(\"r_score : %.2f \"% r2_score(Y_test,Y_pred))"
   ]
  },
  {
   "cell_type": "code",
   "execution_count": 81,
   "metadata": {},
   "outputs": [
    {
     "data": {
      "text/plain": [
       "array([[11092,     0,     0],\n",
       "       [  233,  1141,    53],\n",
       "       [  288,    11,   851]], dtype=int64)"
      ]
     },
     "execution_count": 81,
     "metadata": {},
     "output_type": "execute_result"
    }
   ],
   "source": [
    "confusion_matrix(Y_test, Y_pred)"
   ]
  },
  {
   "cell_type": "code",
   "execution_count": 82,
   "metadata": {},
   "outputs": [
    {
     "name": "stdout",
     "output_type": "stream",
     "text": [
      "Akurasi dengan menggunakan KNN:  0.9881483649133075\n"
     ]
    }
   ],
   "source": [
    "# KLASIFIKASI DENGAN KNN\n",
    "\n",
    "from sklearn.neighbors import KNeighborsClassifier\n",
    "from sklearn import metrics\n",
    "from sklearn.metrics import confusion_matrix, classification_report\n",
    "KNN = KNeighborsClassifier()\n",
    "\n",
    "KNN.fit(X_train, Y_train)\n",
    "Y_pred6 = KNN.predict(X_test)\n",
    "score6 = metrics.accuracy_score(Y_test, Y_pred6)\n",
    "print(\"Akurasi dengan menggunakan KNN: \", score6)"
   ]
  },
  {
   "cell_type": "code",
   "execution_count": 83,
   "metadata": {},
   "outputs": [
    {
     "name": "stdout",
     "output_type": "stream",
     "text": [
      "Classification Report Test Model (KNeighborsClassifier) :\n",
      "              precision    recall  f1-score   support\n",
      "\n",
      "           0       0.99      1.00      1.00     11092\n",
      "           1       0.99      0.97      0.98      1427\n",
      "           2       0.94      0.92      0.93      1150\n",
      "\n",
      "    accuracy                           0.99     13669\n",
      "   macro avg       0.97      0.96      0.97     13669\n",
      "weighted avg       0.99      0.99      0.99     13669\n",
      "\n"
     ]
    }
   ],
   "source": [
    "# Predict \n",
    "\n",
    "Y_pred6 = KNN.predict(X_test)\n",
    "print('Classification Report Test Model (KNeighborsClassifier) :')\n",
    "print(classification_report(Y_test, Y_pred6))"
   ]
  },
  {
   "cell_type": "code",
   "execution_count": 84,
   "metadata": {},
   "outputs": [
    {
     "name": "stdout",
     "output_type": "stream",
     "text": [
      "Akurasi dengan menggunakan Decision Tree:  0.9999268417587241\n"
     ]
    }
   ],
   "source": [
    "# Klasifikasi dengan Decision Tree \n",
    "\n",
    "from sklearn.tree import DecisionTreeClassifier\n",
    "DTR = DecisionTreeClassifier()\n",
    "\n",
    "DTR.fit(X_train, Y_train)\n",
    "y_pred7 = DTR.predict(X_test)\n",
    "score7 = metrics.accuracy_score(Y_test, y_pred7)\n",
    "print(\"Akurasi dengan menggunakan Decision Tree: \", score7)"
   ]
  },
  {
   "cell_type": "code",
   "execution_count": 85,
   "metadata": {},
   "outputs": [
    {
     "name": "stdout",
     "output_type": "stream",
     "text": [
      "Classification Report Test Model (DecisionTree) :\n",
      "              precision    recall  f1-score   support\n",
      "\n",
      "           0       1.00      1.00      1.00     11092\n",
      "           1       1.00      1.00      1.00      1427\n",
      "           2       1.00      1.00      1.00      1150\n",
      "\n",
      "    accuracy                           1.00     13669\n",
      "   macro avg       1.00      1.00      1.00     13669\n",
      "weighted avg       1.00      1.00      1.00     13669\n",
      "\n"
     ]
    }
   ],
   "source": [
    "# Predict\n",
    "\n",
    "y_pred7 = DTR.predict(X_test)\n",
    "print('Classification Report Test Model (DecisionTree) :')\n",
    "print(classification_report(Y_test, y_pred7))"
   ]
  },
  {
   "cell_type": "code",
   "execution_count": 86,
   "metadata": {},
   "outputs": [
    {
     "name": "stdout",
     "output_type": "stream",
     "text": [
      "Akurasi dengan menggunakan Random Forest:  0.9999268417587241\n"
     ]
    }
   ],
   "source": [
    "# Klasifikasi dengan Random Forest\n",
    "\n",
    "from sklearn.ensemble import RandomForestClassifier\n",
    "rfc = RandomForestClassifier()\n",
    "\n",
    "rfc.fit(X_train, Y_train)\n",
    "y_pred8 = rfc.predict(X_test)\n",
    "score8 = metrics.accuracy_score(Y_test, y_pred8)\n",
    "print(\"Akurasi dengan menggunakan Random Forest: \", score8)"
   ]
  },
  {
   "cell_type": "code",
   "execution_count": 87,
   "metadata": {},
   "outputs": [
    {
     "name": "stdout",
     "output_type": "stream",
     "text": [
      "Classification Report Test Model (Random Forest) :\n",
      "              precision    recall  f1-score   support\n",
      "\n",
      "           0       1.00      1.00      1.00     11092\n",
      "           1       1.00      1.00      1.00      1427\n",
      "           2       1.00      1.00      1.00      1150\n",
      "\n",
      "    accuracy                           1.00     13669\n",
      "   macro avg       1.00      1.00      1.00     13669\n",
      "weighted avg       1.00      1.00      1.00     13669\n",
      "\n"
     ]
    }
   ],
   "source": [
    "# Predict\n",
    "\n",
    "y_pred8 = rfc.predict(X_test)\n",
    "print('Classification Report Test Model (Random Forest) :')\n",
    "print(classification_report(Y_test, y_pred8))"
   ]
  },
  {
   "cell_type": "code",
   "execution_count": 88,
   "metadata": {},
   "outputs": [
    {
     "name": "stdout",
     "output_type": "stream",
     "text": [
      "Akurasi dengan menggunakan Support Vector Machine:  0.9547150486502305\n"
     ]
    }
   ],
   "source": [
    "# Klasifikasi dengan Support Vector Machine\n",
    "\n",
    "from sklearn.svm import SVC\n",
    "from sklearn import metrics\n",
    "\n",
    "svm = SVC()\n",
    "\n",
    "svm.fit(X_train, Y_train)\n",
    "y_pred9 = svm.predict(X_test)\n",
    "score9 = metrics.accuracy_score(Y_test, y_pred9)\n",
    "print(\"Akurasi dengan menggunakan Support Vector Machine: \", score9)"
   ]
  },
  {
   "cell_type": "code",
   "execution_count": 89,
   "metadata": {},
   "outputs": [
    {
     "name": "stdout",
     "output_type": "stream",
     "text": [
      "Classification Report Test Model (Support Vector Machine) :\n",
      "              precision    recall  f1-score   support\n",
      "\n",
      "           0       0.95      1.00      0.98     11092\n",
      "           1       1.00      0.79      0.88      1427\n",
      "           2       0.92      0.73      0.81      1150\n",
      "\n",
      "    accuracy                           0.95     13669\n",
      "   macro avg       0.96      0.84      0.89     13669\n",
      "weighted avg       0.96      0.95      0.95     13669\n",
      "\n"
     ]
    }
   ],
   "source": [
    "# Predict\n",
    "\n",
    "y_pred9 = svm.predict(X_test)\n",
    "print('Classification Report Test Model (Support Vector Machine) :')\n",
    "print(classification_report(Y_test, y_pred9))"
   ]
  },
  {
   "attachments": {},
   "cell_type": "markdown",
   "metadata": {},
   "source": [
    "7. Membuat Model Prediksi"
   ]
  },
  {
   "cell_type": "code",
   "execution_count": 94,
   "metadata": {},
   "outputs": [
    {
     "name": "stdout",
     "output_type": "stream",
     "text": [
      "[[ 0.90855572  0.79342662 -0.14086697 -0.93734091]]\n",
      "[0]\n",
      "Anda boleh berenang\n"
     ]
    }
   ],
   "source": [
    "input_data = (-38.167698, 176.347488, 25, 1)\n",
    "\n",
    "input_data_as_numpy_array = np.array(input_data)\n",
    "\n",
    "input_data_reshape = input_data_as_numpy_array.reshape(1,-1)\n",
    "\n",
    "std_data = scaler.transform(input_data_reshape)\n",
    "print(std_data)\n",
    "\n",
    "prediction = rfc.predict(std_data)\n",
    "print(prediction)\n",
    "\n",
    "if (prediction[0] == 0):\n",
    "    print('Anda boleh berenang')\n",
    "\n",
    "elif(prediction[0] == 1):\n",
    "    print('Anda tidak boleh berenang')\n",
    "else :\n",
    "    print('Berhati-hati')    "
   ]
  },
  {
   "attachments": {},
   "cell_type": "markdown",
   "metadata": {},
   "source": [
    "8. Simpan Model"
   ]
  },
  {
   "cell_type": "code",
   "execution_count": 91,
   "metadata": {},
   "outputs": [],
   "source": [
    "import pickle"
   ]
  },
  {
   "cell_type": "code",
   "execution_count": 92,
   "metadata": {},
   "outputs": [],
   "source": [
    "filename = 'air_model.sav'\n",
    "pickle.dump(rfc, open(filename, 'wb'))"
   ]
  },
  {
   "cell_type": "code",
   "execution_count": 93,
   "metadata": {},
   "outputs": [],
   "source": [
    "filename = 'scaler.sav'\n",
    "pickle.dump(scaler, open(filename, 'wb'))"
   ]
  }
 ],
 "metadata": {
  "kernelspec": {
   "display_name": "Python 3",
   "language": "python",
   "name": "python3"
  },
  "language_info": {
   "codemirror_mode": {
    "name": "ipython",
    "version": 3
   },
   "file_extension": ".py",
   "mimetype": "text/x-python",
   "name": "python",
   "nbconvert_exporter": "python",
   "pygments_lexer": "ipython3",
   "version": "3.11.2"
  },
  "orig_nbformat": 4
 },
 "nbformat": 4,
 "nbformat_minor": 2
}
