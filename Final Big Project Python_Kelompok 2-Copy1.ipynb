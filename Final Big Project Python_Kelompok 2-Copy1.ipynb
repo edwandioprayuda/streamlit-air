{
 "cells": [
  {
   "cell_type": "code",
   "execution_count": 1,
   "id": "fb7a225c",
   "metadata": {},
   "outputs": [],
   "source": [
    "# Mengimpor library \n",
    "\n",
    "import pandas as pd\n",
    "import numpy as np \n",
    "from sklearn.impute import SimpleImputer\n",
    "from sklearn.pipeline import Pipeline\n",
    "from sklearn.preprocessing import StandardScaler, OneHotEncoder\n",
    "from sklearn.model_selection import train_test_split\n",
    "from sklearn.compose import ColumnTransformer\n",
    "import matplotlib.pyplot as plt\n",
    "import seaborn as sns\n",
    "sns.set()\n"
   ]
  },
  {
   "cell_type": "code",
   "execution_count": 2,
   "id": "45279523",
   "metadata": {},
   "outputs": [
    {
     "data": {
      "text/html": [
       "<div>\n",
       "<style scoped>\n",
       "    .dataframe tbody tr th:only-of-type {\n",
       "        vertical-align: middle;\n",
       "    }\n",
       "\n",
       "    .dataframe tbody tr th {\n",
       "        vertical-align: top;\n",
       "    }\n",
       "\n",
       "    .dataframe thead th {\n",
       "        text-align: right;\n",
       "    }\n",
       "</style>\n",
       "<table border=\"1\" class=\"dataframe\">\n",
       "  <thead>\n",
       "    <tr style=\"text-align: right;\">\n",
       "      <th></th>\n",
       "      <th>Agency</th>\n",
       "      <th>Region</th>\n",
       "      <th>siteName</th>\n",
       "      <th>SiteID</th>\n",
       "      <th>LawaSiteID</th>\n",
       "      <th>siteType</th>\n",
       "      <th>Latitude</th>\n",
       "      <th>Longitude</th>\n",
       "      <th>Property</th>\n",
       "      <th>DateCollected</th>\n",
       "      <th>Resample following exceedance?</th>\n",
       "      <th>Value</th>\n",
       "      <th>SwimIcon</th>\n",
       "      <th>SwimmingGuidelinesTestResultDescription</th>\n",
       "    </tr>\n",
       "  </thead>\n",
       "  <tbody>\n",
       "    <tr>\n",
       "      <th>0</th>\n",
       "      <td>Bay of Plenty Regional Council</td>\n",
       "      <td>Bay of Plenty region</td>\n",
       "      <td>FK325034</td>\n",
       "      <td>Lake Okareka at Steep St Reserve</td>\n",
       "      <td>EBOP-10005</td>\n",
       "      <td>Lake</td>\n",
       "      <td>-38.167698</td>\n",
       "      <td>176.347488</td>\n",
       "      <td>E-coli</td>\n",
       "      <td>10/25/2017 12:00</td>\n",
       "      <td>NaN</td>\n",
       "      <td>25.0</td>\n",
       "      <td>green</td>\n",
       "      <td>Suitable for swimming</td>\n",
       "    </tr>\n",
       "    <tr>\n",
       "      <th>1</th>\n",
       "      <td>Bay of Plenty Regional Council</td>\n",
       "      <td>Bay of Plenty region</td>\n",
       "      <td>FK325034</td>\n",
       "      <td>Lake Okareka at Steep St Reserve</td>\n",
       "      <td>EBOP-10005</td>\n",
       "      <td>Lake</td>\n",
       "      <td>-38.167698</td>\n",
       "      <td>176.347488</td>\n",
       "      <td>E-coli</td>\n",
       "      <td>10/29/2017 12:00</td>\n",
       "      <td>NaN</td>\n",
       "      <td>2.0</td>\n",
       "      <td>green</td>\n",
       "      <td>Suitable for swimming</td>\n",
       "    </tr>\n",
       "    <tr>\n",
       "      <th>2</th>\n",
       "      <td>Bay of Plenty Regional Council</td>\n",
       "      <td>Bay of Plenty region</td>\n",
       "      <td>FK325034</td>\n",
       "      <td>Lake Okareka at Steep St Reserve</td>\n",
       "      <td>EBOP-10005</td>\n",
       "      <td>Lake</td>\n",
       "      <td>-38.167698</td>\n",
       "      <td>176.347488</td>\n",
       "      <td>E-coli</td>\n",
       "      <td>11/5/2017 12:00</td>\n",
       "      <td>NaN</td>\n",
       "      <td>1.0</td>\n",
       "      <td>green</td>\n",
       "      <td>Suitable for swimming</td>\n",
       "    </tr>\n",
       "    <tr>\n",
       "      <th>3</th>\n",
       "      <td>Bay of Plenty Regional Council</td>\n",
       "      <td>Bay of Plenty region</td>\n",
       "      <td>FK325034</td>\n",
       "      <td>Lake Okareka at Steep St Reserve</td>\n",
       "      <td>EBOP-10005</td>\n",
       "      <td>Lake</td>\n",
       "      <td>-38.167698</td>\n",
       "      <td>176.347488</td>\n",
       "      <td>E-coli</td>\n",
       "      <td>11/13/2017 0:19</td>\n",
       "      <td>NaN</td>\n",
       "      <td>5.0</td>\n",
       "      <td>green</td>\n",
       "      <td>Suitable for swimming</td>\n",
       "    </tr>\n",
       "    <tr>\n",
       "      <th>4</th>\n",
       "      <td>Bay of Plenty Regional Council</td>\n",
       "      <td>Bay of Plenty region</td>\n",
       "      <td>FK325034</td>\n",
       "      <td>Lake Okareka at Steep St Reserve</td>\n",
       "      <td>EBOP-10005</td>\n",
       "      <td>Lake</td>\n",
       "      <td>-38.167698</td>\n",
       "      <td>176.347488</td>\n",
       "      <td>E-coli</td>\n",
       "      <td>11/19/2017 22:34</td>\n",
       "      <td>NaN</td>\n",
       "      <td>2.0</td>\n",
       "      <td>green</td>\n",
       "      <td>Suitable for swimming</td>\n",
       "    </tr>\n",
       "    <tr>\n",
       "      <th>...</th>\n",
       "      <td>...</td>\n",
       "      <td>...</td>\n",
       "      <td>...</td>\n",
       "      <td>...</td>\n",
       "      <td>...</td>\n",
       "      <td>...</td>\n",
       "      <td>...</td>\n",
       "      <td>...</td>\n",
       "      <td>...</td>\n",
       "      <td>...</td>\n",
       "      <td>...</td>\n",
       "      <td>...</td>\n",
       "      <td>...</td>\n",
       "      <td>...</td>\n",
       "    </tr>\n",
       "    <tr>\n",
       "      <th>70881</th>\n",
       "      <td>West Coast Regional Council</td>\n",
       "      <td>West Coast region</td>\n",
       "      <td>Seven.Mile.Ck...SH6.Rapahoe</td>\n",
       "      <td>Seven Mile Ck @ SH6 Rapahoe</td>\n",
       "      <td>WCRC-00012</td>\n",
       "      <td>River</td>\n",
       "      <td>-42.376147</td>\n",
       "      <td>171.242946</td>\n",
       "      <td>E-coli</td>\n",
       "      <td>1/25/2022 8:10</td>\n",
       "      <td>NaN</td>\n",
       "      <td>40.0</td>\n",
       "      <td>green</td>\n",
       "      <td>Suitable for swimming</td>\n",
       "    </tr>\n",
       "    <tr>\n",
       "      <th>70882</th>\n",
       "      <td>West Coast Regional Council</td>\n",
       "      <td>West Coast region</td>\n",
       "      <td>Seven.Mile.Ck...SH6.Rapahoe</td>\n",
       "      <td>Seven Mile Ck @ SH6 Rapahoe</td>\n",
       "      <td>WCRC-00012</td>\n",
       "      <td>River</td>\n",
       "      <td>-42.376147</td>\n",
       "      <td>171.242946</td>\n",
       "      <td>E-coli</td>\n",
       "      <td>2/8/2022 7:15</td>\n",
       "      <td>NaN</td>\n",
       "      <td>150.0</td>\n",
       "      <td>green</td>\n",
       "      <td>Suitable for swimming</td>\n",
       "    </tr>\n",
       "    <tr>\n",
       "      <th>70883</th>\n",
       "      <td>West Coast Regional Council</td>\n",
       "      <td>West Coast region</td>\n",
       "      <td>Seven.Mile.Ck...SH6.Rapahoe</td>\n",
       "      <td>Seven Mile Ck @ SH6 Rapahoe</td>\n",
       "      <td>WCRC-00012</td>\n",
       "      <td>River</td>\n",
       "      <td>-42.376147</td>\n",
       "      <td>171.242946</td>\n",
       "      <td>E-coli</td>\n",
       "      <td>2/21/2022 12:55</td>\n",
       "      <td>NaN</td>\n",
       "      <td>36.0</td>\n",
       "      <td>green</td>\n",
       "      <td>Suitable for swimming</td>\n",
       "    </tr>\n",
       "    <tr>\n",
       "      <th>70884</th>\n",
       "      <td>West Coast Regional Council</td>\n",
       "      <td>West Coast region</td>\n",
       "      <td>Seven.Mile.Ck...SH6.Rapahoe</td>\n",
       "      <td>Seven Mile Ck @ SH6 Rapahoe</td>\n",
       "      <td>WCRC-00012</td>\n",
       "      <td>River</td>\n",
       "      <td>-42.376147</td>\n",
       "      <td>171.242946</td>\n",
       "      <td>E-coli</td>\n",
       "      <td>3/2/2022 11:00</td>\n",
       "      <td>NaN</td>\n",
       "      <td>100.0</td>\n",
       "      <td>green</td>\n",
       "      <td>Suitable for swimming</td>\n",
       "    </tr>\n",
       "    <tr>\n",
       "      <th>70885</th>\n",
       "      <td>West Coast Regional Council</td>\n",
       "      <td>West Coast region</td>\n",
       "      <td>Seven.Mile.Ck...SH6.Rapahoe</td>\n",
       "      <td>Seven Mile Ck @ SH6 Rapahoe</td>\n",
       "      <td>WCRC-00012</td>\n",
       "      <td>River</td>\n",
       "      <td>-42.376147</td>\n",
       "      <td>171.242946</td>\n",
       "      <td>E-coli</td>\n",
       "      <td>3/16/2022 9:50</td>\n",
       "      <td>NaN</td>\n",
       "      <td>270.0</td>\n",
       "      <td>amber</td>\n",
       "      <td>Caution advised</td>\n",
       "    </tr>\n",
       "  </tbody>\n",
       "</table>\n",
       "<p>70886 rows × 14 columns</p>\n",
       "</div>"
      ],
      "text/plain": [
       "                               Agency                Region  \\\n",
       "0      Bay of Plenty Regional Council  Bay of Plenty region   \n",
       "1      Bay of Plenty Regional Council  Bay of Plenty region   \n",
       "2      Bay of Plenty Regional Council  Bay of Plenty region   \n",
       "3      Bay of Plenty Regional Council  Bay of Plenty region   \n",
       "4      Bay of Plenty Regional Council  Bay of Plenty region   \n",
       "...                               ...                   ...   \n",
       "70881     West Coast Regional Council     West Coast region   \n",
       "70882     West Coast Regional Council     West Coast region   \n",
       "70883     West Coast Regional Council     West Coast region   \n",
       "70884     West Coast Regional Council     West Coast region   \n",
       "70885     West Coast Regional Council     West Coast region   \n",
       "\n",
       "                          siteName                            SiteID  \\\n",
       "0                         FK325034  Lake Okareka at Steep St Reserve   \n",
       "1                         FK325034  Lake Okareka at Steep St Reserve   \n",
       "2                         FK325034  Lake Okareka at Steep St Reserve   \n",
       "3                         FK325034  Lake Okareka at Steep St Reserve   \n",
       "4                         FK325034  Lake Okareka at Steep St Reserve   \n",
       "...                            ...                               ...   \n",
       "70881  Seven.Mile.Ck...SH6.Rapahoe       Seven Mile Ck @ SH6 Rapahoe   \n",
       "70882  Seven.Mile.Ck...SH6.Rapahoe       Seven Mile Ck @ SH6 Rapahoe   \n",
       "70883  Seven.Mile.Ck...SH6.Rapahoe       Seven Mile Ck @ SH6 Rapahoe   \n",
       "70884  Seven.Mile.Ck...SH6.Rapahoe       Seven Mile Ck @ SH6 Rapahoe   \n",
       "70885  Seven.Mile.Ck...SH6.Rapahoe       Seven Mile Ck @ SH6 Rapahoe   \n",
       "\n",
       "       LawaSiteID siteType   Latitude   Longitude Property     DateCollected  \\\n",
       "0      EBOP-10005     Lake -38.167698  176.347488   E-coli  10/25/2017 12:00   \n",
       "1      EBOP-10005     Lake -38.167698  176.347488   E-coli  10/29/2017 12:00   \n",
       "2      EBOP-10005     Lake -38.167698  176.347488   E-coli   11/5/2017 12:00   \n",
       "3      EBOP-10005     Lake -38.167698  176.347488   E-coli   11/13/2017 0:19   \n",
       "4      EBOP-10005     Lake -38.167698  176.347488   E-coli  11/19/2017 22:34   \n",
       "...           ...      ...        ...         ...      ...               ...   \n",
       "70881  WCRC-00012    River -42.376147  171.242946   E-coli    1/25/2022 8:10   \n",
       "70882  WCRC-00012    River -42.376147  171.242946   E-coli     2/8/2022 7:15   \n",
       "70883  WCRC-00012    River -42.376147  171.242946   E-coli   2/21/2022 12:55   \n",
       "70884  WCRC-00012    River -42.376147  171.242946   E-coli    3/2/2022 11:00   \n",
       "70885  WCRC-00012    River -42.376147  171.242946   E-coli    3/16/2022 9:50   \n",
       "\n",
       "       Resample following exceedance?  Value SwimIcon  \\\n",
       "0                                 NaN   25.0    green   \n",
       "1                                 NaN    2.0    green   \n",
       "2                                 NaN    1.0    green   \n",
       "3                                 NaN    5.0    green   \n",
       "4                                 NaN    2.0    green   \n",
       "...                               ...    ...      ...   \n",
       "70881                             NaN   40.0    green   \n",
       "70882                             NaN  150.0    green   \n",
       "70883                             NaN   36.0    green   \n",
       "70884                             NaN  100.0    green   \n",
       "70885                             NaN  270.0    amber   \n",
       "\n",
       "      SwimmingGuidelinesTestResultDescription  \n",
       "0                       Suitable for swimming  \n",
       "1                       Suitable for swimming  \n",
       "2                       Suitable for swimming  \n",
       "3                       Suitable for swimming  \n",
       "4                       Suitable for swimming  \n",
       "...                                       ...  \n",
       "70881                   Suitable for swimming  \n",
       "70882                   Suitable for swimming  \n",
       "70883                   Suitable for swimming  \n",
       "70884                   Suitable for swimming  \n",
       "70885                         Caution advised  \n",
       "\n",
       "[70886 rows x 14 columns]"
      ]
     },
     "execution_count": 2,
     "metadata": {},
     "output_type": "execute_result"
    }
   ],
   "source": [
    "# Menampilkan data\n",
    "\n",
    "dP = pd.read_csv('monitoringdata.csv')\n",
    "dP\n"
   ]
  },
  {
   "cell_type": "code",
   "execution_count": 3,
   "id": "6f876b8b",
   "metadata": {},
   "outputs": [
    {
     "data": {
      "text/html": [
       "<div>\n",
       "<style scoped>\n",
       "    .dataframe tbody tr th:only-of-type {\n",
       "        vertical-align: middle;\n",
       "    }\n",
       "\n",
       "    .dataframe tbody tr th {\n",
       "        vertical-align: top;\n",
       "    }\n",
       "\n",
       "    .dataframe thead th {\n",
       "        text-align: right;\n",
       "    }\n",
       "</style>\n",
       "<table border=\"1\" class=\"dataframe\">\n",
       "  <thead>\n",
       "    <tr style=\"text-align: right;\">\n",
       "      <th></th>\n",
       "      <th>Latitude</th>\n",
       "      <th>Longitude</th>\n",
       "      <th>Resample following exceedance?</th>\n",
       "      <th>Value</th>\n",
       "    </tr>\n",
       "  </thead>\n",
       "  <tbody>\n",
       "    <tr>\n",
       "      <th>count</th>\n",
       "      <td>70593.000000</td>\n",
       "      <td>70593.000000</td>\n",
       "      <td>56713.000000</td>\n",
       "      <td>70505.000000</td>\n",
       "    </tr>\n",
       "    <tr>\n",
       "      <th>mean</th>\n",
       "      <td>-40.518857</td>\n",
       "      <td>174.552563</td>\n",
       "      <td>0.045845</td>\n",
       "      <td>280.264216</td>\n",
       "    </tr>\n",
       "    <tr>\n",
       "      <th>std</th>\n",
       "      <td>2.548670</td>\n",
       "      <td>2.245759</td>\n",
       "      <td>0.209150</td>\n",
       "      <td>1846.779604</td>\n",
       "    </tr>\n",
       "    <tr>\n",
       "      <th>min</th>\n",
       "      <td>-46.898428</td>\n",
       "      <td>167.685997</td>\n",
       "      <td>0.000000</td>\n",
       "      <td>0.000000</td>\n",
       "    </tr>\n",
       "    <tr>\n",
       "      <th>25%</th>\n",
       "      <td>-41.331721</td>\n",
       "      <td>173.316279</td>\n",
       "      <td>0.000000</td>\n",
       "      <td>4.000000</td>\n",
       "    </tr>\n",
       "    <tr>\n",
       "      <th>50%</th>\n",
       "      <td>-40.369980</td>\n",
       "      <td>174.978790</td>\n",
       "      <td>0.000000</td>\n",
       "      <td>15.000000</td>\n",
       "    </tr>\n",
       "    <tr>\n",
       "      <th>75%</th>\n",
       "      <td>-38.699633</td>\n",
       "      <td>175.903158</td>\n",
       "      <td>0.000000</td>\n",
       "      <td>110.000000</td>\n",
       "    </tr>\n",
       "    <tr>\n",
       "      <th>max</th>\n",
       "      <td>-34.823295</td>\n",
       "      <td>178.335338</td>\n",
       "      <td>1.000000</td>\n",
       "      <td>200000.000000</td>\n",
       "    </tr>\n",
       "  </tbody>\n",
       "</table>\n",
       "</div>"
      ],
      "text/plain": [
       "           Latitude     Longitude  Resample following exceedance?  \\\n",
       "count  70593.000000  70593.000000                    56713.000000   \n",
       "mean     -40.518857    174.552563                        0.045845   \n",
       "std        2.548670      2.245759                        0.209150   \n",
       "min      -46.898428    167.685997                        0.000000   \n",
       "25%      -41.331721    173.316279                        0.000000   \n",
       "50%      -40.369980    174.978790                        0.000000   \n",
       "75%      -38.699633    175.903158                        0.000000   \n",
       "max      -34.823295    178.335338                        1.000000   \n",
       "\n",
       "               Value  \n",
       "count   70505.000000  \n",
       "mean      280.264216  \n",
       "std      1846.779604  \n",
       "min         0.000000  \n",
       "25%         4.000000  \n",
       "50%        15.000000  \n",
       "75%       110.000000  \n",
       "max    200000.000000  "
      ]
     },
     "execution_count": 3,
     "metadata": {},
     "output_type": "execute_result"
    }
   ],
   "source": [
    "# Telaah data statistik\n",
    "\n",
    "dP.describe(Value)\n"
   ]
  },
  {
   "cell_type": "code",
   "execution_count": 4,
   "id": "93e60c66",
   "metadata": {},
   "outputs": [
    {
     "name": "stdout",
     "output_type": "stream",
     "text": [
      "<class 'pandas.core.frame.DataFrame'>\n",
      "RangeIndex: 70886 entries, 0 to 70885\n",
      "Data columns (total 14 columns):\n",
      " #   Column                                   Non-Null Count  Dtype  \n",
      "---  ------                                   --------------  -----  \n",
      " 0   Agency                                   70886 non-null  object \n",
      " 1   Region                                   70886 non-null  object \n",
      " 2   siteName                                 70886 non-null  object \n",
      " 3   SiteID                                   70886 non-null  object \n",
      " 4   LawaSiteID                               70886 non-null  object \n",
      " 5   siteType                                 70886 non-null  object \n",
      " 6   Latitude                                 70593 non-null  float64\n",
      " 7   Longitude                                70593 non-null  float64\n",
      " 8   Property                                 70886 non-null  object \n",
      " 9   DateCollected                            70886 non-null  object \n",
      " 10  Resample following exceedance?           56713 non-null  float64\n",
      " 11  Value                                    70505 non-null  float64\n",
      " 12  SwimIcon                                 70505 non-null  object \n",
      " 13  SwimmingGuidelinesTestResultDescription  68341 non-null  object \n",
      "dtypes: float64(4), object(10)\n",
      "memory usage: 7.6+ MB\n"
     ]
    }
   ],
   "source": [
    "# Melihat informasi data\n",
    "\n",
    "dP.info()\n"
   ]
  },
  {
   "attachments": {},
   "cell_type": "markdown",
   "id": "0eca2fc7",
   "metadata": {},
   "source": [
    "\n",
    "Visualisasi\n"
   ]
  },
  {
   "cell_type": "code",
   "execution_count": 5,
   "id": "df198384",
   "metadata": {},
   "outputs": [
    {
     "data": {
      "image/png": "[encoded data removed]",
      "text/plain": [
       "<Figure size 640x480 with 1 Axes>"
      ]
     },
     "metadata": {},
     "output_type": "display_data"
    }
   ],
   "source": [
    "\n",
    "import matplotlib.pyplot as plt\n",
    "\n",
    "# Menghitung jumlah data berdasarkan 'Region' dan 'siteType'\n",
    "counts = dP.groupby(['Region', 'siteType']).size().unstack()\n",
    "\n",
    "# Visualisasi stacked bar plot\n",
    "counts.plot(kind='bar', stacked=True)\n",
    "plt.xlabel('Region')\n",
    "plt.ylabel('Count')\n",
    "plt.title('Stacked Bar Plot of siteType by Region')\n",
    "plt.legend(title='siteType')\n",
    "plt.show()\n"
   ]
  },
  {
   "cell_type": "code",
   "execution_count": 6,
   "id": "3ae3685c",
   "metadata": {},
   "outputs": [
    {
     "data": {
      "image/png": "[encoded data removed]",
      "text/plain": [
       "<Figure size 640x480 with 2 Axes>"
      ]
     },
     "metadata": {},
     "output_type": "display_data"
    }
   ],
   "source": [
    "import seaborn as sns\n",
    "\n",
    "# Menghitung korelasi antara kolom numerik\n",
    "corr_matrix = dP[['Latitude', 'Longitude', 'Value']].corr()\n",
    "\n",
    "# Visualisasi heatmap dari korelasi\n",
    "sns.heatmap(corr_matrix, annot=True, cmap='coolwarm')\n",
    "plt.title('Heatmap of Correlation')\n",
    "plt.show()\n"
   ]
  },
  {
   "cell_type": "code",
   "execution_count": 7,
   "id": "082a3910",
   "metadata": {},
   "outputs": [
    {
     "data": {
      "image/png": "[encoded data removed]",
      "text/plain": [
       "<Figure size 640x480 with 1 Axes>"
      ]
     },
     "metadata": {},
     "output_type": "display_data"
    }
   ],
   "source": [
    "import matplotlib.pyplot as plt\n",
    "\n",
    "# Menghitung jumlah data berdasarkan 'siteType'\n",
    "siteType_counts = dP['siteType'].value_counts()\n",
    "\n",
    "# Visualisasi pie chart\n",
    "plt.pie(siteType_counts.values, labels=siteType_counts.index, autopct='%1.1f%%')\n",
    "plt.title('Pie Chart of siteType')\n",
    "plt.axis('equal')\n",
    "plt.show()\n"
   ]
  },
  {
   "cell_type": "code",
   "execution_count": 8,
   "id": "2aa01c7c",
   "metadata": {},
   "outputs": [
    {
     "data": {
      "text/plain": [
       "Agency                                         0\n",
       "Region                                         0\n",
       "siteName                                       0\n",
       "SiteID                                         0\n",
       "LawaSiteID                                     0\n",
       "siteType                                       0\n",
       "Latitude                                     293\n",
       "Longitude                                    293\n",
       "Property                                       0\n",
       "DateCollected                                  0\n",
       "Resample following exceedance?             14173\n",
       "Value                                        381\n",
       "SwimIcon                                     381\n",
       "SwimmingGuidelinesTestResultDescription     2545\n",
       "dtype: int64"
      ]
     },
     "execution_count": 8,
     "metadata": {},
     "output_type": "execute_result"
    }
   ],
   "source": [
    "# DATA PREPARATION (Cleansing)\n",
    "\n",
    "dP.isnull().sum()\n"
   ]
  },
  {
   "cell_type": "code",
   "execution_count": 9,
   "id": "97bb0ba8",
   "metadata": {},
   "outputs": [
    {
     "data": {
      "text/html": [
       "<div>\n",
       "<style scoped>\n",
       "    .dataframe tbody tr th:only-of-type {\n",
       "        vertical-align: middle;\n",
       "    }\n",
       "\n",
       "    .dataframe tbody tr th {\n",
       "        vertical-align: top;\n",
       "    }\n",
       "\n",
       "    .dataframe thead th {\n",
       "        text-align: right;\n",
       "    }\n",
       "</style>\n",
       "<table border=\"1\" class=\"dataframe\">\n",
       "  <thead>\n",
       "    <tr style=\"text-align: right;\">\n",
       "      <th></th>\n",
       "      <th>siteType</th>\n",
       "      <th>Latitude</th>\n",
       "      <th>Longitude</th>\n",
       "      <th>Property</th>\n",
       "      <th>Value</th>\n",
       "      <th>SwimIcon</th>\n",
       "    </tr>\n",
       "  </thead>\n",
       "  <tbody>\n",
       "    <tr>\n",
       "      <th>0</th>\n",
       "      <td>Lake</td>\n",
       "      <td>-38.167698</td>\n",
       "      <td>176.347488</td>\n",
       "      <td>E-coli</td>\n",
       "      <td>25.0</td>\n",
       "      <td>green</td>\n",
       "    </tr>\n",
       "    <tr>\n",
       "      <th>1</th>\n",
       "      <td>Lake</td>\n",
       "      <td>-38.167698</td>\n",
       "      <td>176.347488</td>\n",
       "      <td>E-coli</td>\n",
       "      <td>2.0</td>\n",
       "      <td>green</td>\n",
       "    </tr>\n",
       "    <tr>\n",
       "      <th>2</th>\n",
       "      <td>Lake</td>\n",
       "      <td>-38.167698</td>\n",
       "      <td>176.347488</td>\n",
       "      <td>E-coli</td>\n",
       "      <td>1.0</td>\n",
       "      <td>green</td>\n",
       "    </tr>\n",
       "    <tr>\n",
       "      <th>3</th>\n",
       "      <td>Lake</td>\n",
       "      <td>-38.167698</td>\n",
       "      <td>176.347488</td>\n",
       "      <td>E-coli</td>\n",
       "      <td>5.0</td>\n",
       "      <td>green</td>\n",
       "    </tr>\n",
       "    <tr>\n",
       "      <th>4</th>\n",
       "      <td>Lake</td>\n",
       "      <td>-38.167698</td>\n",
       "      <td>176.347488</td>\n",
       "      <td>E-coli</td>\n",
       "      <td>2.0</td>\n",
       "      <td>green</td>\n",
       "    </tr>\n",
       "    <tr>\n",
       "      <th>...</th>\n",
       "      <td>...</td>\n",
       "      <td>...</td>\n",
       "      <td>...</td>\n",
       "      <td>...</td>\n",
       "      <td>...</td>\n",
       "      <td>...</td>\n",
       "    </tr>\n",
       "    <tr>\n",
       "      <th>70881</th>\n",
       "      <td>River</td>\n",
       "      <td>-42.376147</td>\n",
       "      <td>171.242946</td>\n",
       "      <td>E-coli</td>\n",
       "      <td>40.0</td>\n",
       "      <td>green</td>\n",
       "    </tr>\n",
       "    <tr>\n",
       "      <th>70882</th>\n",
       "      <td>River</td>\n",
       "      <td>-42.376147</td>\n",
       "      <td>171.242946</td>\n",
       "      <td>E-coli</td>\n",
       "      <td>150.0</td>\n",
       "      <td>green</td>\n",
       "    </tr>\n",
       "    <tr>\n",
       "      <th>70883</th>\n",
       "      <td>River</td>\n",
       "      <td>-42.376147</td>\n",
       "      <td>171.242946</td>\n",
       "      <td>E-coli</td>\n",
       "      <td>36.0</td>\n",
       "      <td>green</td>\n",
       "    </tr>\n",
       "    <tr>\n",
       "      <th>70884</th>\n",
       "      <td>River</td>\n",
       "      <td>-42.376147</td>\n",
       "      <td>171.242946</td>\n",
       "      <td>E-coli</td>\n",
       "      <td>100.0</td>\n",
       "      <td>green</td>\n",
       "    </tr>\n",
       "    <tr>\n",
       "      <th>70885</th>\n",
       "      <td>River</td>\n",
       "      <td>-42.376147</td>\n",
       "      <td>171.242946</td>\n",
       "      <td>E-coli</td>\n",
       "      <td>270.0</td>\n",
       "      <td>amber</td>\n",
       "    </tr>\n",
       "  </tbody>\n",
       "</table>\n",
       "<p>70886 rows × 6 columns</p>\n",
       "</div>"
      ],
      "text/plain": [
       "      siteType   Latitude   Longitude Property  Value SwimIcon\n",
       "0         Lake -38.167698  176.347488   E-coli   25.0    green\n",
       "1         Lake -38.167698  176.347488   E-coli    2.0    green\n",
       "2         Lake -38.167698  176.347488   E-coli    1.0    green\n",
       "3         Lake -38.167698  176.347488   E-coli    5.0    green\n",
       "4         Lake -38.167698  176.347488   E-coli    2.0    green\n",
       "...        ...        ...         ...      ...    ...      ...\n",
       "70881    River -42.376147  171.242946   E-coli   40.0    green\n",
       "70882    River -42.376147  171.242946   E-coli  150.0    green\n",
       "70883    River -42.376147  171.242946   E-coli   36.0    green\n",
       "70884    River -42.376147  171.242946   E-coli  100.0    green\n",
       "70885    River -42.376147  171.242946   E-coli  270.0    amber\n",
       "\n",
       "[70886 rows x 6 columns]"
      ]
     },
     "execution_count": 9,
     "metadata": {},
     "output_type": "execute_result"
    }
   ],
   "source": [
    "# Menghapus variabel yang tidak dibutuhkan \n",
    "\n",
    "dP1 =dP.drop(columns=['Agency', 'SiteID', 'LawaSiteID', 'Resample following exceedance?', 'DateCollected', 'SwimmingGuidelinesTestResultDescription', 'Region', 'siteName'])\n",
    "dP1\n"
   ]
  },
  {
   "cell_type": "code",
   "execution_count": 10,
   "id": "8dae6ad8",
   "metadata": {},
   "outputs": [
    {
     "name": "stdout",
     "output_type": "stream",
     "text": [
      "<class 'pandas.core.frame.DataFrame'>\n",
      "RangeIndex: 70886 entries, 0 to 70885\n",
      "Data columns (total 6 columns):\n",
      " #   Column     Non-Null Count  Dtype  \n",
      "---  ------     --------------  -----  \n",
      " 0   siteType   70886 non-null  object \n",
      " 1   Latitude   70593 non-null  float64\n",
      " 2   Longitude  70593 non-null  float64\n",
      " 3   Property   70886 non-null  object \n",
      " 4   Value      70505 non-null  float64\n",
      " 5   SwimIcon   70505 non-null  object \n",
      "dtypes: float64(3), object(3)\n",
      "memory usage: 3.2+ MB\n"
     ]
    }
   ],
   "source": [
    "# Melihat informasi data \n",
    "\n",
    "dP1.info()\n"
   ]
  },
  {
   "cell_type": "code",
   "execution_count": 11,
   "id": "83905ae3",
   "metadata": {},
   "outputs": [],
   "source": [
    "# Menghapus semua baris duplikasi kecuali salah satunya\n",
    "\n",
    "dP1.drop_duplicates(inplace=True)\n"
   ]
  },
  {
   "cell_type": "code",
   "execution_count": 12,
   "id": "d8815b00",
   "metadata": {},
   "outputs": [
    {
     "data": {
      "text/html": [
       "<div>\n",
       "<style scoped>\n",
       "    .dataframe tbody tr th:only-of-type {\n",
       "        vertical-align: middle;\n",
       "    }\n",
       "\n",
       "    .dataframe tbody tr th {\n",
       "        vertical-align: top;\n",
       "    }\n",
       "\n",
       "    .dataframe thead th {\n",
       "        text-align: right;\n",
       "    }\n",
       "</style>\n",
       "<table border=\"1\" class=\"dataframe\">\n",
       "  <thead>\n",
       "    <tr style=\"text-align: right;\">\n",
       "      <th></th>\n",
       "      <th>Data Kosong</th>\n",
       "      <th>Data Duplikat</th>\n",
       "      <th>Data NaNN</th>\n",
       "      <th>Type Data</th>\n",
       "    </tr>\n",
       "  </thead>\n",
       "  <tbody>\n",
       "    <tr>\n",
       "      <th>siteType</th>\n",
       "      <td>0</td>\n",
       "      <td>0</td>\n",
       "      <td>0</td>\n",
       "      <td>object</td>\n",
       "    </tr>\n",
       "    <tr>\n",
       "      <th>Latitude</th>\n",
       "      <td>134</td>\n",
       "      <td>0</td>\n",
       "      <td>134</td>\n",
       "      <td>float64</td>\n",
       "    </tr>\n",
       "    <tr>\n",
       "      <th>Longitude</th>\n",
       "      <td>134</td>\n",
       "      <td>0</td>\n",
       "      <td>134</td>\n",
       "      <td>float64</td>\n",
       "    </tr>\n",
       "    <tr>\n",
       "      <th>Property</th>\n",
       "      <td>0</td>\n",
       "      <td>0</td>\n",
       "      <td>0</td>\n",
       "      <td>object</td>\n",
       "    </tr>\n",
       "    <tr>\n",
       "      <th>Value</th>\n",
       "      <td>47</td>\n",
       "      <td>0</td>\n",
       "      <td>47</td>\n",
       "      <td>float64</td>\n",
       "    </tr>\n",
       "    <tr>\n",
       "      <th>SwimIcon</th>\n",
       "      <td>47</td>\n",
       "      <td>0</td>\n",
       "      <td>47</td>\n",
       "      <td>object</td>\n",
       "    </tr>\n",
       "  </tbody>\n",
       "</table>\n",
       "</div>"
      ],
      "text/plain": [
       "           Data Kosong  Data Duplikat  Data NaNN Type Data\n",
       "siteType             0              0          0    object\n",
       "Latitude           134              0        134   float64\n",
       "Longitude          134              0        134   float64\n",
       "Property             0              0          0    object\n",
       "Value               47              0         47   float64\n",
       "SwimIcon            47              0         47    object"
      ]
     },
     "execution_count": 12,
     "metadata": {},
     "output_type": "execute_result"
    }
   ],
   "source": [
    "# Mengecek data \n",
    "\n",
    "Cek_Data = pd.DataFrame({\n",
    "    'Data Kosong': dP1.isnull().sum(),\n",
    "    'Data Duplikat': dP1.duplicated().sum(),\n",
    "    'Data NaNN': dP1.isna().sum(),\n",
    "    'Type Data': dP1.dtypes})\n",
    "Cek_Data\n"
   ]
  },
  {
   "cell_type": "code",
   "execution_count": 13,
   "id": "842f8c38",
   "metadata": {},
   "outputs": [],
   "source": [
    "# Mengisi data kosong dengan nilai median\n",
    "\n",
    "dP1['Value'] = dP1['Value'].fillna(dP1['Value'].median())\n",
    "dP1['Latitude'] = dP1['Latitude'].fillna(dP1['Latitude'].median())\n",
    "dP1['Longitude'] = dP1['Longitude'].fillna(dP1['Longitude'].median())\n",
    "\n",
    "# Mengisi data kosong dengan nilai \"No Data\"\n",
    "\n",
    "dP1['SwimIcon'] = dP1['SwimIcon'].fillna('No Data')\n"
   ]
  },
  {
   "cell_type": "code",
   "execution_count": 14,
   "id": "173f508a",
   "metadata": {},
   "outputs": [
    {
     "data": {
      "text/html": [
       "<div>\n",
       "<style scoped>\n",
       "    .dataframe tbody tr th:only-of-type {\n",
       "        vertical-align: middle;\n",
       "    }\n",
       "\n",
       "    .dataframe tbody tr th {\n",
       "        vertical-align: top;\n",
       "    }\n",
       "\n",
       "    .dataframe thead th {\n",
       "        text-align: right;\n",
       "    }\n",
       "</style>\n",
       "<table border=\"1\" class=\"dataframe\">\n",
       "  <thead>\n",
       "    <tr style=\"text-align: right;\">\n",
       "      <th></th>\n",
       "      <th>Data Kosong</th>\n",
       "      <th>Data Duplikat</th>\n",
       "      <th>Data NaNN</th>\n",
       "      <th>Type Data</th>\n",
       "    </tr>\n",
       "  </thead>\n",
       "  <tbody>\n",
       "    <tr>\n",
       "      <th>siteType</th>\n",
       "      <td>0</td>\n",
       "      <td>0</td>\n",
       "      <td>0</td>\n",
       "      <td>object</td>\n",
       "    </tr>\n",
       "    <tr>\n",
       "      <th>Latitude</th>\n",
       "      <td>0</td>\n",
       "      <td>0</td>\n",
       "      <td>0</td>\n",
       "      <td>float64</td>\n",
       "    </tr>\n",
       "    <tr>\n",
       "      <th>Longitude</th>\n",
       "      <td>0</td>\n",
       "      <td>0</td>\n",
       "      <td>0</td>\n",
       "      <td>float64</td>\n",
       "    </tr>\n",
       "    <tr>\n",
       "      <th>Property</th>\n",
       "      <td>0</td>\n",
       "      <td>0</td>\n",
       "      <td>0</td>\n",
       "      <td>object</td>\n",
       "    </tr>\n",
       "    <tr>\n",
       "      <th>Value</th>\n",
       "      <td>0</td>\n",
       "      <td>0</td>\n",
       "      <td>0</td>\n",
       "      <td>float64</td>\n",
       "    </tr>\n",
       "    <tr>\n",
       "      <th>SwimIcon</th>\n",
       "      <td>0</td>\n",
       "      <td>0</td>\n",
       "      <td>0</td>\n",
       "      <td>object</td>\n",
       "    </tr>\n",
       "  </tbody>\n",
       "</table>\n",
       "</div>"
      ],
      "text/plain": [
       "           Data Kosong  Data Duplikat  Data NaNN Type Data\n",
       "siteType             0              0          0    object\n",
       "Latitude             0              0          0   float64\n",
       "Longitude            0              0          0   float64\n",
       "Property             0              0          0    object\n",
       "Value                0              0          0   float64\n",
       "SwimIcon             0              0          0    object"
      ]
     },
     "execution_count": 14,
     "metadata": {},
     "output_type": "execute_result"
    }
   ],
   "source": [
    "# Mengecek data \n",
    "\n",
    "Cek_Data = pd.DataFrame({\n",
    "    'Data Kosong': dP1.isnull().sum(),\n",
    "    'Data Duplikat': dP1.duplicated().sum(),\n",
    "    'Data NaNN': dP1.isna().sum(),\n",
    "    'Type Data': dP1.dtypes})\n",
    "Cek_Data\n"
   ]
  },
  {
   "cell_type": "code",
   "execution_count": 15,
   "id": "0ef9013c",
   "metadata": {},
   "outputs": [
    {
     "name": "stdout",
     "output_type": "stream",
     "text": [
      "siteType             =>     3\n",
      "Latitude             =>   625\n",
      "Longitude            =>   625\n",
      "Property             =>     3\n",
      "Value                =>  1159\n",
      "SwimIcon             =>     4\n"
     ]
    }
   ],
   "source": [
    "# Melihat unique value \n",
    "\n",
    "for col in dP1.columns : \n",
    "    print('{:<20} => {:>5}'.format(col, len(dP1[col].unique())))\n",
    "    "
   ]
  },
  {
   "cell_type": "code",
   "execution_count": 16,
   "id": "a8b055f0",
   "metadata": {},
   "outputs": [
    {
     "name": "stdout",
     "output_type": "stream",
     "text": [
      "Values_siteType:\n",
      "River      16709\n",
      "Coastal     8092\n",
      "Lake        2331\n",
      "Name: siteType, dtype: int64\n",
      "\n",
      "Values_Property:\n",
      "E-coli           19456\n",
      "Enterococci       7244\n",
      "Cyanobacteria      432\n",
      "Name: Property, dtype: int64\n",
      "\n",
      "Values_SwimIcon:\n",
      "green      17855\n",
      "red         5184\n",
      "amber       3970\n",
      "No Data      123\n",
      "Name: SwimIcon, dtype: int64\n"
     ]
    }
   ],
   "source": [
    "# Melihat Value dari masing-masing variabel \n",
    "\n",
    "Values_siteType = dP1[\"siteType\"].value_counts().sort_values(ascending=False)\n",
    "Values_Property = dP1[\"Property\"].value_counts().sort_values(ascending=False)\n",
    "Values_SwimIcon = dP1[\"SwimIcon\"].value_counts().sort_values(ascending=False)\n",
    "\n",
    "print(\"Values_siteType:\")\n",
    "print(Values_siteType)\n",
    "\n",
    "print(\"\\nValues_Property:\")\n",
    "print(Values_Property)\n",
    "\n",
    "print(\"\\nValues_SwimIcon:\")\n",
    "print(Values_SwimIcon)\n"
   ]
  },
  {
   "cell_type": "code",
   "execution_count": 17,
   "id": "fab65c4a",
   "metadata": {},
   "outputs": [],
   "source": [
    "# label mapping (mengubah nilai label)\n",
    "\n",
    "label_mapping = {\n",
    "    'siteType': {\n",
    "        'River': 0,\n",
    "        'Coastal': 1,\n",
    "        'Lake': 2\n",
    "    },\n",
    "    'Property': {\n",
    "        'E-coli': 0,\n",
    "        'Enterococci': 1,\n",
    "        'Cyanobacteria': 2\n",
    "    },\n",
    "    'SwimIcon': {\n",
    "        'green': 0,\n",
    "        'red': 1,\n",
    "        'amber': 2,\n",
    "        'No Data': 3\n",
    "    }\n",
    "}\n",
    "\n",
    "# Mengganti nilai dalam kolom 'siteType' menggunakan label mapping\n",
    "\n",
    "dP1['siteType'] = dP1['siteType'].map(label_mapping['siteType'])\n",
    "dP1['Property'] = dP1['Property'].map(label_mapping['Property'])\n",
    "dP1['SwimIcon'] = dP1['SwimIcon'].map(label_mapping['SwimIcon'])\n"
   ]
  },
  {
   "attachments": {},
   "cell_type": "markdown",
   "id": "34138b16",
   "metadata": {},
   "source": [
    "# Regresi dan Klasifikasi"
   ]
  },
  {
   "cell_type": "code",
   "execution_count": 18,
   "id": "742e0e5d",
   "metadata": {},
   "outputs": [
    {
     "data": {
      "text/html": [
       "<div>\n",
       "<style scoped>\n",
       "    .dataframe tbody tr th:only-of-type {\n",
       "        vertical-align: middle;\n",
       "    }\n",
       "\n",
       "    .dataframe tbody tr th {\n",
       "        vertical-align: top;\n",
       "    }\n",
       "\n",
       "    .dataframe thead th {\n",
       "        text-align: right;\n",
       "    }\n",
       "</style>\n",
       "<table border=\"1\" class=\"dataframe\">\n",
       "  <thead>\n",
       "    <tr style=\"text-align: right;\">\n",
       "      <th></th>\n",
       "      <th>siteType</th>\n",
       "      <th>Latitude</th>\n",
       "      <th>Longitude</th>\n",
       "      <th>Property</th>\n",
       "      <th>Value</th>\n",
       "      <th>SwimIcon</th>\n",
       "    </tr>\n",
       "  </thead>\n",
       "  <tbody>\n",
       "    <tr>\n",
       "      <th>0</th>\n",
       "      <td>2</td>\n",
       "      <td>-38.167698</td>\n",
       "      <td>176.347488</td>\n",
       "      <td>0</td>\n",
       "      <td>25.0</td>\n",
       "      <td>0</td>\n",
       "    </tr>\n",
       "    <tr>\n",
       "      <th>1</th>\n",
       "      <td>2</td>\n",
       "      <td>-38.167698</td>\n",
       "      <td>176.347488</td>\n",
       "      <td>0</td>\n",
       "      <td>2.0</td>\n",
       "      <td>0</td>\n",
       "    </tr>\n",
       "    <tr>\n",
       "      <th>2</th>\n",
       "      <td>2</td>\n",
       "      <td>-38.167698</td>\n",
       "      <td>176.347488</td>\n",
       "      <td>0</td>\n",
       "      <td>1.0</td>\n",
       "      <td>0</td>\n",
       "    </tr>\n",
       "    <tr>\n",
       "      <th>3</th>\n",
       "      <td>2</td>\n",
       "      <td>-38.167698</td>\n",
       "      <td>176.347488</td>\n",
       "      <td>0</td>\n",
       "      <td>5.0</td>\n",
       "      <td>0</td>\n",
       "    </tr>\n",
       "    <tr>\n",
       "      <th>5</th>\n",
       "      <td>2</td>\n",
       "      <td>-38.167698</td>\n",
       "      <td>176.347488</td>\n",
       "      <td>0</td>\n",
       "      <td>6.0</td>\n",
       "      <td>0</td>\n",
       "    </tr>\n",
       "    <tr>\n",
       "      <th>...</th>\n",
       "      <td>...</td>\n",
       "      <td>...</td>\n",
       "      <td>...</td>\n",
       "      <td>...</td>\n",
       "      <td>...</td>\n",
       "      <td>...</td>\n",
       "    </tr>\n",
       "    <tr>\n",
       "      <th>70876</th>\n",
       "      <td>0</td>\n",
       "      <td>-42.376147</td>\n",
       "      <td>171.242946</td>\n",
       "      <td>0</td>\n",
       "      <td>110.0</td>\n",
       "      <td>0</td>\n",
       "    </tr>\n",
       "    <tr>\n",
       "      <th>70877</th>\n",
       "      <td>0</td>\n",
       "      <td>-42.376147</td>\n",
       "      <td>171.242946</td>\n",
       "      <td>0</td>\n",
       "      <td>100.0</td>\n",
       "      <td>0</td>\n",
       "    </tr>\n",
       "    <tr>\n",
       "      <th>70880</th>\n",
       "      <td>0</td>\n",
       "      <td>-42.376147</td>\n",
       "      <td>171.242946</td>\n",
       "      <td>0</td>\n",
       "      <td>530.0</td>\n",
       "      <td>2</td>\n",
       "    </tr>\n",
       "    <tr>\n",
       "      <th>70883</th>\n",
       "      <td>0</td>\n",
       "      <td>-42.376147</td>\n",
       "      <td>171.242946</td>\n",
       "      <td>0</td>\n",
       "      <td>36.0</td>\n",
       "      <td>0</td>\n",
       "    </tr>\n",
       "    <tr>\n",
       "      <th>70885</th>\n",
       "      <td>0</td>\n",
       "      <td>-42.376147</td>\n",
       "      <td>171.242946</td>\n",
       "      <td>0</td>\n",
       "      <td>270.0</td>\n",
       "      <td>2</td>\n",
       "    </tr>\n",
       "  </tbody>\n",
       "</table>\n",
       "<p>27132 rows × 6 columns</p>\n",
       "</div>"
      ],
      "text/plain": [
       "       siteType   Latitude   Longitude  Property  Value  SwimIcon\n",
       "0             2 -38.167698  176.347488         0   25.0         0\n",
       "1             2 -38.167698  176.347488         0    2.0         0\n",
       "2             2 -38.167698  176.347488         0    1.0         0\n",
       "3             2 -38.167698  176.347488         0    5.0         0\n",
       "5             2 -38.167698  176.347488         0    6.0         0\n",
       "...         ...        ...         ...       ...    ...       ...\n",
       "70876         0 -42.376147  171.242946         0  110.0         0\n",
       "70877         0 -42.376147  171.242946         0  100.0         0\n",
       "70880         0 -42.376147  171.242946         0  530.0         2\n",
       "70883         0 -42.376147  171.242946         0   36.0         0\n",
       "70885         0 -42.376147  171.242946         0  270.0         2\n",
       "\n",
       "[27132 rows x 6 columns]"
      ]
     },
     "execution_count": 18,
     "metadata": {},
     "output_type": "execute_result"
    }
   ],
   "source": [
    "# Menampilkan data\n",
    "\n",
    "data = dP1.copy()\n",
    "data\n"
   ]
  },
  {
   "cell_type": "code",
   "execution_count": 19,
   "id": "5c75791f",
   "metadata": {},
   "outputs": [
    {
     "data": {
      "text/plain": [
       "array([0, 0, 0, ..., 0, 0, 2], dtype=int64)"
      ]
     },
     "execution_count": 19,
     "metadata": {},
     "output_type": "execute_result"
    }
   ],
   "source": [
    "\n",
    "from sklearn.model_selection import train_test_split\n",
    "from sklearn.preprocessing import StandardScaler\n",
    "from sklearn.linear_model import LogisticRegression\n",
    "from sklearn.preprocessing import LabelEncoder\n",
    "\n",
    "x = data.drop(columns=['SwimIcon'])\n",
    "y = data['SwimIcon']\n",
    "\n",
    "# Membagi dataset menjadi set data latihan (training set) dan set data uji (test set)\n",
    "x_train, x_test, y_train, y_test = train_test_split(x, y, test_size=0.2, random_state=0)\n",
    "\n",
    "# Transformasi data dengan Standard Scaler\n",
    "columns = ['Value', 'Latitude', 'Longitude', 'siteType', 'Property']\n",
    "scaler = StandardScaler()\n",
    "x_train[columns] = scaler.fit_transform(x_train[columns])\n",
    "x_test[columns] = scaler.transform(x_test[columns])\n",
    "\n",
    "# TRANSFORMASI Y TRAIN\n",
    "le = LabelEncoder()\n",
    "y_train = le.fit_transform(y_train)\n",
    "y_test = le.transform(y_test)\n",
    "\n",
    "y_train\n"
   ]
  },
  {
   "attachments": {},
   "cell_type": "markdown",
   "id": "702eba66",
   "metadata": {},
   "source": [
    "# REGRESI"
   ]
  },
  {
   "cell_type": "code",
   "execution_count": 20,
   "id": "ff959dde",
   "metadata": {},
   "outputs": [],
   "source": [
    "# Mengimpor library \n",
    "\n",
    "from sklearn.linear_model import LogisticRegression\n",
    "import math\n",
    "from sklearn.metrics import mean_squared_error\n",
    "from sklearn.metrics import mean_absolute_error\n",
    "from sklearn.metrics import r2_score\n",
    "from sklearn.metrics import confusion_matrix\n",
    "from sklearn.metrics import accuracy_score\n",
    "from sklearn.metrics import f1_score\n",
    "from sklearn.metrics import recall_score\n",
    "from sklearn.metrics import precision_score \n",
    "from sklearn.metrics import classification_report\n"
   ]
  },
  {
   "cell_type": "code",
   "execution_count": 21,
   "id": "e0907f9c",
   "metadata": {
    "scrolled": true
   },
   "outputs": [
    {
     "name": "stdout",
     "output_type": "stream",
     "text": [
      "Accuracy_Score : 0.95 \n",
      "MSE : 0.18 \n",
      "MAE : 0.09 \n",
      "RMSE : 0.43 \n",
      "r_score : 0.69 \n"
     ]
    },
    {
     "name": "stderr",
     "output_type": "stream",
     "text": [
      "c:\\Users\\ACER\\anaconda3\\lib\\site-packages\\sklearn\\linear_model\\_logistic.py:458: ConvergenceWarning: lbfgs failed to converge (status=1):\n",
      "STOP: TOTAL NO. of ITERATIONS REACHED LIMIT.\n",
      "\n",
      "Increase the number of iterations (max_iter) or scale the data as shown in:\n",
      "    https://scikit-learn.org/stable/modules/preprocessing.html\n",
      "Please also refer to the documentation for alternative solver options:\n",
      "    https://scikit-learn.org/stable/modules/linear_model.html#logistic-regression\n",
      "  n_iter_i = _check_optimize_result(\n"
     ]
    }
   ],
   "source": [
    "# Melakukan prediksi pada data uji\n",
    "\n",
    "logreg = LogisticRegression(multi_class='auto', solver='lbfgs')\n",
    "logreg.fit(x_train, y_train)\n",
    "\n",
    "y_pred = logreg.predict(x_test)\n",
    "\n",
    "print(\"Accuracy_Score : %.2f \"% accuracy_score(y_test,y_pred))\n",
    "print(\"MSE : %.2f \"% mean_squared_error(y_test,y_pred))\n",
    "print(\"MAE : %.2f \"% mean_absolute_error(y_test,y_pred))\n",
    "print(\"RMSE : %.2f \"% math.sqrt(mean_squared_error(y_test,y_pred)))\n",
    "print(\"r_score : %.2f \"% r2_score(y_test,y_pred))\n"
   ]
  },
  {
   "cell_type": "code",
   "execution_count": 22,
   "id": "0308e25d",
   "metadata": {},
   "outputs": [
    {
     "data": {
      "text/plain": [
       "array([[3516,    0,    0,    0],\n",
       "       [  19,  975,   45,    0],\n",
       "       [ 188,    0,  662,    0],\n",
       "       [  18,    4,    0,    0]], dtype=int64)"
      ]
     },
     "execution_count": 22,
     "metadata": {},
     "output_type": "execute_result"
    }
   ],
   "source": [
    "\n",
    "confusion_matrix(y_test, y_pred)\n"
   ]
  },
  {
   "attachments": {},
   "cell_type": "markdown",
   "id": "8a3810b9",
   "metadata": {},
   "source": [
    "# Kasifikasi"
   ]
  },
  {
   "cell_type": "code",
   "execution_count": 23,
   "id": "b578bdab",
   "metadata": {},
   "outputs": [
    {
     "name": "stdout",
     "output_type": "stream",
     "text": [
      "Akurasi dengan menggunakan KNN:  0.9572507831214299\n"
     ]
    }
   ],
   "source": [
    "# KLASIFIKASI DENGAN KNN\n",
    "\n",
    "from sklearn.neighbors import KNeighborsClassifier\n",
    "from sklearn import metrics\n",
    "from sklearn.metrics import confusion_matrix, classification_report\n",
    "KNN = KNeighborsClassifier()\n",
    "\n",
    "KNN.fit(x_train, y_train)\n",
    "y_pred6 = KNN.predict(x_test)\n",
    "score6 = metrics.accuracy_score(y_test, y_pred6)\n",
    "print(\"Akurasi dengan menggunakan KNN: \", score6)\n"
   ]
  },
  {
   "cell_type": "code",
   "execution_count": 24,
   "id": "0cf9055e",
   "metadata": {},
   "outputs": [
    {
     "name": "stdout",
     "output_type": "stream",
     "text": [
      "Classification Report Test Model (KNeighborsClassifier) :\n",
      "              precision    recall  f1-score   support\n",
      "\n",
      "           0       0.96      0.99      0.98      3516\n",
      "           1       0.98      0.93      0.96      1039\n",
      "           2       0.91      0.88      0.89       850\n",
      "           3       0.36      0.18      0.24        22\n",
      "\n",
      "    accuracy                           0.96      5427\n",
      "   macro avg       0.80      0.74      0.77      5427\n",
      "weighted avg       0.96      0.96      0.96      5427\n",
      "\n"
     ]
    }
   ],
   "source": [
    "# Predict \n",
    "\n",
    "y_pred6 = KNN.predict(x_test)\n",
    "print('Classification Report Test Model (KNeighborsClassifier) :')\n",
    "print(classification_report(y_test, y_pred6))\n"
   ]
  },
  {
   "cell_type": "code",
   "execution_count": 25,
   "id": "2b68dd0c",
   "metadata": {},
   "outputs": [
    {
     "name": "stdout",
     "output_type": "stream",
     "text": [
      "Akurasi dengan menggunakan Decision Tree:  0.9987101529390087\n"
     ]
    }
   ],
   "source": [
    "# Klasifikasi dengan Decision Tree \n",
    "\n",
    "from sklearn.tree import DecisionTreeClassifier\n",
    "DTR = DecisionTreeClassifier()\n",
    "\n",
    "DTR.fit(x_train, y_train)\n",
    "y_pred7 = DTR.predict(x_test)\n",
    "score7 = metrics.accuracy_score(y_test, y_pred7)\n",
    "print(\"Akurasi dengan menggunakan Decision Tree: \", score7)\n"
   ]
  },
  {
   "cell_type": "code",
   "execution_count": 26,
   "id": "0de08f33",
   "metadata": {},
   "outputs": [
    {
     "name": "stdout",
     "output_type": "stream",
     "text": [
      "Classification Report Test Model (DecisionTree) :\n",
      "              precision    recall  f1-score   support\n",
      "\n",
      "           0       1.00      1.00      1.00      3516\n",
      "           1       1.00      1.00      1.00      1039\n",
      "           2       1.00      1.00      1.00       850\n",
      "           3       0.86      0.82      0.84        22\n",
      "\n",
      "    accuracy                           1.00      5427\n",
      "   macro avg       0.96      0.95      0.96      5427\n",
      "weighted avg       1.00      1.00      1.00      5427\n",
      "\n"
     ]
    }
   ],
   "source": [
    "# Predict\n",
    "\n",
    "y_pred7 = DTR.predict(x_test)\n",
    "print('Classification Report Test Model (DecisionTree) :')\n",
    "print(classification_report(y_test, y_pred7))\n"
   ]
  },
  {
   "cell_type": "code",
   "execution_count": 27,
   "id": "c289b1bc",
   "metadata": {},
   "outputs": [
    {
     "name": "stdout",
     "output_type": "stream",
     "text": [
      "Akurasi dengan menggunakan Random Forest:  0.9985258890731528\n"
     ]
    }
   ],
   "source": [
    "# Klasifikasi dengan Random Forest\n",
    "\n",
    "from sklearn.ensemble import RandomForestClassifier\n",
    "rfc = RandomForestClassifier()\n",
    "\n",
    "rfc.fit(x_train, y_train)\n",
    "y_pred8 = rfc.predict(x_test)\n",
    "score8 = metrics.accuracy_score(y_test, y_pred8)\n",
    "print(\"Akurasi dengan menggunakan Random Forest: \", score8)\n"
   ]
  },
  {
   "cell_type": "code",
   "execution_count": 28,
   "id": "be4540f2",
   "metadata": {},
   "outputs": [
    {
     "name": "stdout",
     "output_type": "stream",
     "text": [
      "Classification Report Test Model (Random Forest) :\n",
      "              precision    recall  f1-score   support\n",
      "\n",
      "           0       1.00      1.00      1.00      3516\n",
      "           1       1.00      1.00      1.00      1039\n",
      "           2       1.00      1.00      1.00       850\n",
      "           3       0.86      0.82      0.84        22\n",
      "\n",
      "    accuracy                           1.00      5427\n",
      "   macro avg       0.96      0.95      0.96      5427\n",
      "weighted avg       1.00      1.00      1.00      5427\n",
      "\n"
     ]
    }
   ],
   "source": [
    "# Predict\n",
    "\n",
    "y_pred8 = rfc.predict(x_test)\n",
    "print('Classification Report Test Model (Random Forest) :')\n",
    "print(classification_report(y_test, y_pred8))\n"
   ]
  },
  {
   "cell_type": "code",
   "execution_count": 29,
   "id": "0751c6ed",
   "metadata": {},
   "outputs": [
    {
     "name": "stdout",
     "output_type": "stream",
     "text": [
      "Akurasi dengan menggunakan Support Vector Machine:  0.9045513174866409\n"
     ]
    }
   ],
   "source": [
    "# Klasifikasi dengan Support Vector Machine\n",
    "\n",
    "from sklearn.svm import SVC\n",
    "from sklearn import metrics\n",
    "\n",
    "svm = SVC()\n",
    "\n",
    "svm.fit(x_train, y_train)\n",
    "y_pred9 = svm.predict(x_test)\n",
    "score9 = metrics.accuracy_score(y_test, y_pred9)\n",
    "print(\"Akurasi dengan menggunakan Support Vector Machine: \", score9)\n"
   ]
  },
  {
   "cell_type": "code",
   "execution_count": 30,
   "id": "05dc2cd3",
   "metadata": {},
   "outputs": [
    {
     "name": "stdout",
     "output_type": "stream",
     "text": [
      "Classification Report Test Model (Support Vector Machine) :\n",
      "              precision    recall  f1-score   support\n",
      "\n",
      "           0       0.89      1.00      0.94      3516\n",
      "           1       1.00      0.86      0.93      1039\n",
      "           2       0.83      0.58      0.69       850\n",
      "           3       0.00      0.00      0.00        22\n",
      "\n",
      "    accuracy                           0.90      5427\n",
      "   macro avg       0.68      0.61      0.64      5427\n",
      "weighted avg       0.90      0.90      0.90      5427\n",
      "\n"
     ]
    },
    {
     "name": "stderr",
     "output_type": "stream",
     "text": [
      "c:\\Users\\ACER\\anaconda3\\lib\\site-packages\\sklearn\\metrics\\_classification.py:1344: UndefinedMetricWarning: Precision and F-score are ill-defined and being set to 0.0 in labels with no predicted samples. Use `zero_division` parameter to control this behavior.\n",
      "  _warn_prf(average, modifier, msg_start, len(result))\n",
      "c:\\Users\\ACER\\anaconda3\\lib\\site-packages\\sklearn\\metrics\\_classification.py:1344: UndefinedMetricWarning: Precision and F-score are ill-defined and being set to 0.0 in labels with no predicted samples. Use `zero_division` parameter to control this behavior.\n",
      "  _warn_prf(average, modifier, msg_start, len(result))\n",
      "c:\\Users\\ACER\\anaconda3\\lib\\site-packages\\sklearn\\metrics\\_classification.py:1344: UndefinedMetricWarning: Precision and F-score are ill-defined and being set to 0.0 in labels with no predicted samples. Use `zero_division` parameter to control this behavior.\n",
      "  _warn_prf(average, modifier, msg_start, len(result))\n"
     ]
    }
   ],
   "source": [
    "# Predict\n",
    "\n",
    "y_pred9 = svm.predict(x_test)\n",
    "print('Classification Report Test Model (Support Vector Machine) :')\n",
    "print(classification_report(y_test, y_pred9))\n"
   ]
  },
  {
   "cell_type": "code",
   "execution_count": 31,
   "id": "b22682c0",
   "metadata": {},
   "outputs": [
    {
     "name": "stdout",
     "output_type": "stream",
     "text": [
      "Akurasi dengan menggunakan Support Vector Machine RBF Kernel:  0.7770407223143542\n"
     ]
    }
   ],
   "source": [
    "# SVM dengan kernel RBF, nilai parameter C dan gamma dapat diubah juga \n",
    "\n",
    "svmRBF = SVC(kernel = 'rbf', C = 1, gamma = 0.01,)\n",
    "\n",
    "svmRBF.fit(x_train, y_train)\n",
    "y_pred91 = svmRBF.predict(x_test)\n",
    "score91 = metrics.accuracy_score(y_test, y_pred91)\n",
    "print(\"Akurasi dengan menggunakan Support Vector Machine RBF Kernel: \", score91)\n"
   ]
  },
  {
   "cell_type": "code",
   "execution_count": 32,
   "id": "56bb0b17",
   "metadata": {},
   "outputs": [
    {
     "name": "stdout",
     "output_type": "stream",
     "text": [
      "Classification Report Test Model (Support Vector Machine RBF Kernel) :\n",
      "              precision    recall  f1-score   support\n",
      "\n",
      "           0       0.74      1.00      0.85      3516\n",
      "           1       1.00      0.67      0.81      1039\n",
      "           2       0.00      0.00      0.00       850\n",
      "           3       0.00      0.00      0.00        22\n",
      "\n",
      "    accuracy                           0.78      5427\n",
      "   macro avg       0.44      0.42      0.41      5427\n",
      "weighted avg       0.67      0.78      0.71      5427\n",
      "\n"
     ]
    },
    {
     "name": "stderr",
     "output_type": "stream",
     "text": [
      "c:\\Users\\ACER\\anaconda3\\lib\\site-packages\\sklearn\\metrics\\_classification.py:1344: UndefinedMetricWarning: Precision and F-score are ill-defined and being set to 0.0 in labels with no predicted samples. Use `zero_division` parameter to control this behavior.\n",
      "  _warn_prf(average, modifier, msg_start, len(result))\n",
      "c:\\Users\\ACER\\anaconda3\\lib\\site-packages\\sklearn\\metrics\\_classification.py:1344: UndefinedMetricWarning: Precision and F-score are ill-defined and being set to 0.0 in labels with no predicted samples. Use `zero_division` parameter to control this behavior.\n",
      "  _warn_prf(average, modifier, msg_start, len(result))\n",
      "c:\\Users\\ACER\\anaconda3\\lib\\site-packages\\sklearn\\metrics\\_classification.py:1344: UndefinedMetricWarning: Precision and F-score are ill-defined and being set to 0.0 in labels with no predicted samples. Use `zero_division` parameter to control this behavior.\n",
      "  _warn_prf(average, modifier, msg_start, len(result))\n"
     ]
    }
   ],
   "source": [
    "# Predict\n",
    "\n",
    "y_pred91 = svmRBF.predict(x_test)\n",
    "print('Classification Report Test Model (Support Vector Machine RBF Kernel) :')\n",
    "print(classification_report(y_test, y_pred91))\n"
   ]
  },
  {
   "attachments": {},
   "cell_type": "markdown",
   "id": "98917df3",
   "metadata": {},
   "source": [
    "# Membangun model ANN"
   ]
  },
  {
   "cell_type": "code",
   "execution_count": 33,
   "id": "5b95f32f",
   "metadata": {},
   "outputs": [],
   "source": [
    "# Memanggil data\n",
    "\n",
    "data1 = dP1.copy()\n"
   ]
  },
  {
   "cell_type": "code",
   "execution_count": 34,
   "id": "f3e7586f",
   "metadata": {},
   "outputs": [],
   "source": [
    "\n",
    "from sklearn.model_selection import train_test_split\n",
    "from sklearn.preprocessing import StandardScaler\n",
    "from sklearn.linear_model import LogisticRegression\n",
    "\n",
    "x = data.drop(columns=['SwimIcon'])\n",
    "y = data['SwimIcon']\n",
    "\n",
    "# Membagi dataset menjadi set data latihan (training set) dan set data uji (test set)\n",
    "x_train, x_test, y_train, y_test = train_test_split(x, y, test_size=0.2, random_state=0)\n",
    "\n",
    "# Transformasi data dengan Standard Scaler\n",
    "columns = ['Value', 'Latitude', 'Longitude', 'siteType', 'Property']\n",
    "scaler = StandardScaler()\n",
    "x_train_scale = scaler.fit_transform(x_train[columns])\n",
    "x_test_scale = scaler.transform(x_test[columns])\n",
    "\n",
    "x_train[columns]=x_train_scale\n",
    "x_test[columns]=x_test_scale\n",
    "\n",
    "# TRANSFORMASI Y TRAIN\n",
    "le = LabelEncoder()\n",
    "y_train = le.fit_transform(y_train)\n",
    "y_test = le.transform(y_test)\n"
   ]
  },
  {
   "cell_type": "code",
   "execution_count": 35,
   "id": "0e022e53",
   "metadata": {},
   "outputs": [],
   "source": [
    "# Melabelkan\n",
    "\n",
    "from keras.utils import np_utils\n",
    "y_train = np_utils.to_categorical(y_train, num_classes = 5)\n",
    "y_test = np_utils.to_categorical(y_test, num_classes = 5)\n"
   ]
  },
  {
   "cell_type": "code",
   "execution_count": 36,
   "id": "3f6fd803",
   "metadata": {},
   "outputs": [
    {
     "data": {
      "text/plain": [
       "((21705, 5), (5427, 5), (21705, 5), (5427, 5))"
      ]
     },
     "execution_count": 36,
     "metadata": {},
     "output_type": "execute_result"
    }
   ],
   "source": [
    "# Melihat Shape\n",
    "\n",
    "x_train.shape, x_test.shape, y_train.shape, y_test.shape\n"
   ]
  },
  {
   "cell_type": "code",
   "execution_count": 62,
   "id": "335752d4",
   "metadata": {},
   "outputs": [],
   "source": [
    "# Mengimport library \n",
    "\n",
    "import tensorflow as tf\n",
    "import keras\n",
    "from tensorflow.keras.models import Sequential\n",
    "from tensorflow.keras.layers import Dense\n",
    "from tensorflow.keras.layers import Activation\n",
    "from sklearn.metrics import accuracy_score\n",
    "from sklearn.metrics import f1_score\n",
    "from sklearn.metrics import recall_score\n",
    "from sklearn.metrics import precision_score \n",
    "from sklearn.metrics import classification_report\n",
    "from sklearn.metrics import confusion_matrix\n"
   ]
  },
  {
   "cell_type": "code",
   "execution_count": 38,
   "id": "35c99489",
   "metadata": {},
   "outputs": [],
   "source": [
    "# Membangun model ANN\n",
    "\n",
    "import tensorflow as tf\n",
    "\n",
    "ann = tf.keras.models.Sequential()\n",
    "ann.add(tf.keras.layers.Dense(units=32, activation=\"relu\", input_shape=(5,)))\n",
    "ann.add(tf.keras.layers.Dense(units=128, activation=\"relu\"))\n",
    "ann.add(tf.keras.layers.Dense(units=32, activation=\"relu\"))\n",
    "ann.add(tf.keras.layers.Dense(units=5, activation=\"softmax\"))\n",
    "\n",
    "ann.compile(optimizer=\"adam\", loss=\"categorical_crossentropy\", metrics=['accuracy'])\n"
   ]
  },
  {
   "cell_type": "code",
   "execution_count": 39,
   "id": "e6242456",
   "metadata": {},
   "outputs": [
    {
     "name": "stdout",
     "output_type": "stream",
     "text": [
      "Model: \"sequential\"\n",
      "_________________________________________________________________\n",
      " Layer (type)                Output Shape              Param #   \n",
      "=================================================================\n",
      " dense (Dense)               (None, 32)                192       \n",
      "                                                                 \n",
      " dense_1 (Dense)             (None, 128)               4224      \n",
      "                                                                 \n",
      " dense_2 (Dense)             (None, 32)                4128      \n",
      "                                                                 \n",
      " dense_3 (Dense)             (None, 5)                 165       \n",
      "                                                                 \n",
      "=================================================================\n",
      "Total params: 8,709\n",
      "Trainable params: 8,709\n",
      "Non-trainable params: 0\n",
      "_________________________________________________________________\n"
     ]
    }
   ],
   "source": [
    "# Melihat summary\n",
    "\n",
    "ann.summary()\n"
   ]
  },
  {
   "cell_type": "code",
   "execution_count": 40,
   "id": "2c7d8fc0",
   "metadata": {},
   "outputs": [
    {
     "name": "stdout",
     "output_type": "stream",
     "text": [
      "Epoch 1/100\n",
      "679/679 [==============================] - 10s 7ms/step - loss: 0.3825 - accuracy: 0.8639 - val_loss: 0.1499 - val_accuracy: 0.9469\n",
      "Epoch 2/100\n",
      "679/679 [==============================] - 4s 6ms/step - loss: 0.1213 - accuracy: 0.9575 - val_loss: 0.1076 - val_accuracy: 0.9641\n",
      "Epoch 3/100\n",
      "679/679 [==============================] - 2s 3ms/step - loss: 0.0993 - accuracy: 0.9626 - val_loss: 0.0926 - val_accuracy: 0.9676\n",
      "Epoch 4/100\n",
      "679/679 [==============================] - 2s 3ms/step - loss: 0.0899 - accuracy: 0.9679 - val_loss: 0.0737 - val_accuracy: 0.9725\n",
      "Epoch 5/100\n",
      "679/679 [==============================] - 2s 3ms/step - loss: 0.0811 - accuracy: 0.9712 - val_loss: 0.0884 - val_accuracy: 0.9644\n",
      "Epoch 6/100\n",
      "679/679 [==============================] - 2s 3ms/step - loss: 0.0806 - accuracy: 0.9689 - val_loss: 0.0820 - val_accuracy: 0.9654\n",
      "Epoch 7/100\n",
      "679/679 [==============================] - 3s 4ms/step - loss: 0.0741 - accuracy: 0.9716 - val_loss: 0.0809 - val_accuracy: 0.9696\n",
      "Epoch 8/100\n",
      "679/679 [==============================] - 3s 4ms/step - loss: 0.0719 - accuracy: 0.9714 - val_loss: 0.1053 - val_accuracy: 0.9571\n",
      "Epoch 9/100\n",
      "679/679 [==============================] - 2s 3ms/step - loss: 0.0708 - accuracy: 0.9728 - val_loss: 0.0707 - val_accuracy: 0.9681\n",
      "Epoch 10/100\n",
      "679/679 [==============================] - 2s 3ms/step - loss: 0.0701 - accuracy: 0.9720 - val_loss: 0.0655 - val_accuracy: 0.9727\n",
      "Epoch 11/100\n",
      "679/679 [==============================] - 2s 3ms/step - loss: 0.0654 - accuracy: 0.9739 - val_loss: 0.0652 - val_accuracy: 0.9711\n",
      "Epoch 12/100\n",
      "679/679 [==============================] - 2s 3ms/step - loss: 0.0640 - accuracy: 0.9750 - val_loss: 0.0802 - val_accuracy: 0.9646\n",
      "Epoch 13/100\n",
      "679/679 [==============================] - 2s 4ms/step - loss: 0.0663 - accuracy: 0.9728 - val_loss: 0.0662 - val_accuracy: 0.9757\n",
      "Epoch 14/100\n",
      "679/679 [==============================] - 3s 4ms/step - loss: 0.0656 - accuracy: 0.9730 - val_loss: 0.0618 - val_accuracy: 0.9733\n",
      "Epoch 15/100\n",
      "679/679 [==============================] - 3s 4ms/step - loss: 0.0626 - accuracy: 0.9739 - val_loss: 0.0596 - val_accuracy: 0.9749\n",
      "Epoch 16/100\n",
      "679/679 [==============================] - 2s 4ms/step - loss: 0.0593 - accuracy: 0.9764 - val_loss: 0.1095 - val_accuracy: 0.9611\n",
      "Epoch 17/100\n",
      "679/679 [==============================] - 2s 3ms/step - loss: 0.0613 - accuracy: 0.9749 - val_loss: 0.0520 - val_accuracy: 0.9784\n",
      "Epoch 18/100\n",
      "679/679 [==============================] - 2s 3ms/step - loss: 0.0623 - accuracy: 0.9739 - val_loss: 0.0601 - val_accuracy: 0.9748\n",
      "Epoch 19/100\n",
      "679/679 [==============================] - 2s 3ms/step - loss: 0.0590 - accuracy: 0.9749 - val_loss: 0.0501 - val_accuracy: 0.9819\n",
      "Epoch 20/100\n",
      "679/679 [==============================] - 4s 6ms/step - loss: 0.0603 - accuracy: 0.9749 - val_loss: 0.0478 - val_accuracy: 0.9821\n",
      "Epoch 21/100\n",
      "679/679 [==============================] - 4s 5ms/step - loss: 0.0547 - accuracy: 0.9777 - val_loss: 0.0975 - val_accuracy: 0.9639\n",
      "Epoch 22/100\n",
      "679/679 [==============================] - 3s 5ms/step - loss: 0.0578 - accuracy: 0.9774 - val_loss: 0.0559 - val_accuracy: 0.9768\n",
      "Epoch 23/100\n",
      "679/679 [==============================] - 2s 3ms/step - loss: 0.0585 - accuracy: 0.9759 - val_loss: 0.0548 - val_accuracy: 0.9792\n",
      "Epoch 24/100\n",
      "679/679 [==============================] - 2s 3ms/step - loss: 0.0558 - accuracy: 0.9772 - val_loss: 0.0617 - val_accuracy: 0.9753\n",
      "Epoch 25/100\n",
      "679/679 [==============================] - 3s 4ms/step - loss: 0.0548 - accuracy: 0.9772 - val_loss: 0.0503 - val_accuracy: 0.9803\n",
      "Epoch 26/100\n",
      "679/679 [==============================] - 3s 4ms/step - loss: 0.0547 - accuracy: 0.9779 - val_loss: 0.0655 - val_accuracy: 0.9724\n",
      "Epoch 27/100\n",
      "679/679 [==============================] - 3s 4ms/step - loss: 0.0565 - accuracy: 0.9766 - val_loss: 0.0492 - val_accuracy: 0.9823\n",
      "Epoch 28/100\n",
      "679/679 [==============================] - 2s 3ms/step - loss: 0.0529 - accuracy: 0.9783 - val_loss: 0.0510 - val_accuracy: 0.9786\n",
      "Epoch 29/100\n",
      "679/679 [==============================] - 2s 3ms/step - loss: 0.0561 - accuracy: 0.9773 - val_loss: 0.0586 - val_accuracy: 0.9753\n",
      "Epoch 30/100\n",
      "679/679 [==============================] - 2s 3ms/step - loss: 0.0518 - accuracy: 0.9783 - val_loss: 0.0504 - val_accuracy: 0.9799\n",
      "Epoch 31/100\n",
      "679/679 [==============================] - 6s 8ms/step - loss: 0.0528 - accuracy: 0.9775 - val_loss: 0.0492 - val_accuracy: 0.9805\n",
      "Epoch 32/100\n",
      "679/679 [==============================] - 9s 13ms/step - loss: 0.0528 - accuracy: 0.9775 - val_loss: 0.0512 - val_accuracy: 0.9788\n",
      "Epoch 33/100\n",
      "679/679 [==============================] - 11s 17ms/step - loss: 0.0523 - accuracy: 0.9789 - val_loss: 0.0563 - val_accuracy: 0.9779\n",
      "Epoch 34/100\n",
      "679/679 [==============================] - 6s 9ms/step - loss: 0.0511 - accuracy: 0.9788 - val_loss: 0.0490 - val_accuracy: 0.9803\n",
      "Epoch 35/100\n",
      "679/679 [==============================] - 6s 8ms/step - loss: 0.0494 - accuracy: 0.9789 - val_loss: 0.0769 - val_accuracy: 0.9716\n",
      "Epoch 36/100\n",
      "679/679 [==============================] - 5s 7ms/step - loss: 0.0501 - accuracy: 0.9790 - val_loss: 0.0445 - val_accuracy: 0.9825\n",
      "Epoch 37/100\n",
      "679/679 [==============================] - 4s 6ms/step - loss: 0.0494 - accuracy: 0.9795 - val_loss: 0.0428 - val_accuracy: 0.9825\n",
      "Epoch 38/100\n",
      "679/679 [==============================] - 4s 5ms/step - loss: 0.0531 - accuracy: 0.9772 - val_loss: 0.0542 - val_accuracy: 0.9746\n",
      "Epoch 39/100\n",
      "679/679 [==============================] - 4s 6ms/step - loss: 0.0492 - accuracy: 0.9791 - val_loss: 0.0512 - val_accuracy: 0.9795\n",
      "Epoch 40/100\n",
      "679/679 [==============================] - 3s 5ms/step - loss: 0.0489 - accuracy: 0.9799 - val_loss: 0.0640 - val_accuracy: 0.9766\n",
      "Epoch 41/100\n",
      "679/679 [==============================] - 3s 4ms/step - loss: 0.0466 - accuracy: 0.9800 - val_loss: 0.0539 - val_accuracy: 0.9786\n",
      "Epoch 42/100\n",
      "679/679 [==============================] - 3s 4ms/step - loss: 0.0519 - accuracy: 0.9790 - val_loss: 0.0652 - val_accuracy: 0.9727\n",
      "Epoch 43/100\n",
      "679/679 [==============================] - 3s 4ms/step - loss: 0.0471 - accuracy: 0.9803 - val_loss: 0.0466 - val_accuracy: 0.9799\n",
      "Epoch 44/100\n",
      "679/679 [==============================] - 3s 5ms/step - loss: 0.0491 - accuracy: 0.9788 - val_loss: 0.0687 - val_accuracy: 0.9729\n",
      "Epoch 45/100\n",
      "679/679 [==============================] - 3s 5ms/step - loss: 0.0474 - accuracy: 0.9796 - val_loss: 0.0537 - val_accuracy: 0.9799\n",
      "Epoch 46/100\n",
      "679/679 [==============================] - 3s 4ms/step - loss: 0.0509 - accuracy: 0.9787 - val_loss: 0.0518 - val_accuracy: 0.9779\n",
      "Epoch 47/100\n",
      "679/679 [==============================] - 3s 4ms/step - loss: 0.0487 - accuracy: 0.9793 - val_loss: 0.0735 - val_accuracy: 0.9690\n",
      "Epoch 48/100\n",
      "679/679 [==============================] - 2s 4ms/step - loss: 0.0478 - accuracy: 0.9797 - val_loss: 0.0503 - val_accuracy: 0.9808\n",
      "Epoch 49/100\n",
      "679/679 [==============================] - 3s 5ms/step - loss: 0.0464 - accuracy: 0.9809 - val_loss: 0.0575 - val_accuracy: 0.9768\n",
      "Epoch 50/100\n",
      "679/679 [==============================] - 4s 5ms/step - loss: 0.0451 - accuracy: 0.9808 - val_loss: 0.0449 - val_accuracy: 0.9827\n",
      "Epoch 51/100\n",
      "679/679 [==============================] - 3s 4ms/step - loss: 0.0467 - accuracy: 0.9798 - val_loss: 0.0493 - val_accuracy: 0.9792\n",
      "Epoch 52/100\n",
      "679/679 [==============================] - 2s 3ms/step - loss: 0.0462 - accuracy: 0.9800 - val_loss: 0.0479 - val_accuracy: 0.9801\n",
      "Epoch 53/100\n",
      "679/679 [==============================] - 3s 4ms/step - loss: 0.0486 - accuracy: 0.9790 - val_loss: 0.0552 - val_accuracy: 0.9772\n",
      "Epoch 54/100\n",
      "679/679 [==============================] - 3s 5ms/step - loss: 0.0458 - accuracy: 0.9804 - val_loss: 0.0437 - val_accuracy: 0.9827\n",
      "Epoch 55/100\n",
      "679/679 [==============================] - 4s 6ms/step - loss: 0.0453 - accuracy: 0.9806 - val_loss: 0.0558 - val_accuracy: 0.9753\n",
      "Epoch 56/100\n",
      "679/679 [==============================] - 4s 5ms/step - loss: 0.0472 - accuracy: 0.9794 - val_loss: 0.0481 - val_accuracy: 0.9807\n",
      "Epoch 57/100\n",
      "679/679 [==============================] - 2s 4ms/step - loss: 0.0434 - accuracy: 0.9818 - val_loss: 0.0442 - val_accuracy: 0.9814\n",
      "Epoch 58/100\n",
      "679/679 [==============================] - 3s 4ms/step - loss: 0.0478 - accuracy: 0.9794 - val_loss: 0.0520 - val_accuracy: 0.9795\n",
      "Epoch 59/100\n",
      "679/679 [==============================] - 4s 5ms/step - loss: 0.0438 - accuracy: 0.9817 - val_loss: 0.0580 - val_accuracy: 0.9762\n",
      "Epoch 60/100\n",
      "679/679 [==============================] - 4s 6ms/step - loss: 0.0456 - accuracy: 0.9807 - val_loss: 0.0562 - val_accuracy: 0.9768\n",
      "Epoch 61/100\n",
      "679/679 [==============================] - 4s 6ms/step - loss: 0.0466 - accuracy: 0.9796 - val_loss: 0.0602 - val_accuracy: 0.9733\n",
      "Epoch 62/100\n",
      "679/679 [==============================] - 3s 4ms/step - loss: 0.0440 - accuracy: 0.9806 - val_loss: 0.0453 - val_accuracy: 0.9821\n",
      "Epoch 63/100\n",
      "679/679 [==============================] - 3s 5ms/step - loss: 0.0464 - accuracy: 0.9804 - val_loss: 0.0528 - val_accuracy: 0.9779\n",
      "Epoch 64/100\n",
      "679/679 [==============================] - 4s 5ms/step - loss: 0.0424 - accuracy: 0.9817 - val_loss: 0.0445 - val_accuracy: 0.9832\n",
      "Epoch 65/100\n",
      "679/679 [==============================] - 4s 6ms/step - loss: 0.0440 - accuracy: 0.9806 - val_loss: 0.0551 - val_accuracy: 0.9766\n",
      "Epoch 66/100\n",
      "679/679 [==============================] - 3s 5ms/step - loss: 0.0432 - accuracy: 0.9804 - val_loss: 0.0561 - val_accuracy: 0.9784\n",
      "Epoch 67/100\n",
      "679/679 [==============================] - 2s 4ms/step - loss: 0.0455 - accuracy: 0.9806 - val_loss: 0.0420 - val_accuracy: 0.9825\n",
      "Epoch 68/100\n",
      "679/679 [==============================] - 3s 4ms/step - loss: 0.0463 - accuracy: 0.9799 - val_loss: 0.0512 - val_accuracy: 0.9797\n",
      "Epoch 69/100\n",
      "679/679 [==============================] - 3s 5ms/step - loss: 0.0418 - accuracy: 0.9814 - val_loss: 0.0457 - val_accuracy: 0.9819\n",
      "Epoch 70/100\n",
      "679/679 [==============================] - 4s 5ms/step - loss: 0.0431 - accuracy: 0.9815 - val_loss: 0.0477 - val_accuracy: 0.9797\n",
      "Epoch 71/100\n",
      "679/679 [==============================] - 3s 5ms/step - loss: 0.0457 - accuracy: 0.9806 - val_loss: 0.0450 - val_accuracy: 0.9799\n",
      "Epoch 72/100\n",
      "679/679 [==============================] - 3s 4ms/step - loss: 0.0435 - accuracy: 0.9810 - val_loss: 0.0407 - val_accuracy: 0.9818\n",
      "Epoch 73/100\n",
      "679/679 [==============================] - 3s 4ms/step - loss: 0.0435 - accuracy: 0.9814 - val_loss: 0.0469 - val_accuracy: 0.9823\n",
      "Epoch 74/100\n",
      "679/679 [==============================] - 3s 4ms/step - loss: 0.0437 - accuracy: 0.9809 - val_loss: 0.0491 - val_accuracy: 0.9786\n",
      "Epoch 75/100\n",
      "679/679 [==============================] - 4s 5ms/step - loss: 0.0440 - accuracy: 0.9816 - val_loss: 0.0437 - val_accuracy: 0.9823\n",
      "Epoch 76/100\n",
      "679/679 [==============================] - 3s 5ms/step - loss: 0.0449 - accuracy: 0.9806 - val_loss: 0.0448 - val_accuracy: 0.9810\n",
      "Epoch 77/100\n",
      "679/679 [==============================] - 2s 4ms/step - loss: 0.0440 - accuracy: 0.9809 - val_loss: 0.0418 - val_accuracy: 0.9834\n",
      "Epoch 78/100\n",
      "679/679 [==============================] - 2s 3ms/step - loss: 0.0424 - accuracy: 0.9814 - val_loss: 0.0392 - val_accuracy: 0.9832\n",
      "Epoch 79/100\n",
      "679/679 [==============================] - 2s 4ms/step - loss: 0.0416 - accuracy: 0.9826 - val_loss: 0.0389 - val_accuracy: 0.9836\n",
      "Epoch 80/100\n",
      "679/679 [==============================] - 4s 5ms/step - loss: 0.0416 - accuracy: 0.9817 - val_loss: 0.0495 - val_accuracy: 0.9810\n",
      "Epoch 81/100\n",
      "679/679 [==============================] - 4s 5ms/step - loss: 0.0438 - accuracy: 0.9815 - val_loss: 0.0447 - val_accuracy: 0.9807\n",
      "Epoch 82/100\n",
      "679/679 [==============================] - 3s 4ms/step - loss: 0.0452 - accuracy: 0.9811 - val_loss: 0.0376 - val_accuracy: 0.9853\n",
      "Epoch 83/100\n",
      "679/679 [==============================] - 3s 4ms/step - loss: 0.0425 - accuracy: 0.9817 - val_loss: 0.0394 - val_accuracy: 0.9845\n",
      "Epoch 84/100\n",
      "679/679 [==============================] - 3s 5ms/step - loss: 0.0436 - accuracy: 0.9819 - val_loss: 0.0449 - val_accuracy: 0.9812\n",
      "Epoch 85/100\n",
      "679/679 [==============================] - 4s 6ms/step - loss: 0.0407 - accuracy: 0.9825 - val_loss: 0.0469 - val_accuracy: 0.9805\n",
      "Epoch 86/100\n",
      "679/679 [==============================] - 3s 5ms/step - loss: 0.0428 - accuracy: 0.9814 - val_loss: 0.0533 - val_accuracy: 0.9792\n",
      "Epoch 87/100\n",
      "679/679 [==============================] - 3s 5ms/step - loss: 0.0415 - accuracy: 0.9819 - val_loss: 0.0435 - val_accuracy: 0.9797\n",
      "Epoch 88/100\n",
      "679/679 [==============================] - 3s 4ms/step - loss: 0.0445 - accuracy: 0.9813 - val_loss: 0.0404 - val_accuracy: 0.9829\n",
      "Epoch 89/100\n",
      "679/679 [==============================] - 3s 4ms/step - loss: 0.0426 - accuracy: 0.9822 - val_loss: 0.0455 - val_accuracy: 0.9819\n",
      "Epoch 90/100\n",
      "679/679 [==============================] - 3s 4ms/step - loss: 0.0447 - accuracy: 0.9808 - val_loss: 0.0416 - val_accuracy: 0.9842\n",
      "Epoch 91/100\n",
      "679/679 [==============================] - 3s 5ms/step - loss: 0.0427 - accuracy: 0.9816 - val_loss: 0.0487 - val_accuracy: 0.9786\n",
      "Epoch 92/100\n",
      "679/679 [==============================] - 3s 5ms/step - loss: 0.0411 - accuracy: 0.9818 - val_loss: 0.0391 - val_accuracy: 0.9830\n",
      "Epoch 93/100\n",
      "679/679 [==============================] - 3s 4ms/step - loss: 0.0426 - accuracy: 0.9816 - val_loss: 0.0376 - val_accuracy: 0.9843\n",
      "Epoch 94/100\n",
      "679/679 [==============================] - 2s 4ms/step - loss: 0.0400 - accuracy: 0.9830 - val_loss: 0.0550 - val_accuracy: 0.9777\n",
      "Epoch 95/100\n",
      "679/679 [==============================] - 3s 5ms/step - loss: 0.0411 - accuracy: 0.9816 - val_loss: 0.0370 - val_accuracy: 0.9849\n",
      "Epoch 96/100\n",
      "679/679 [==============================] - 3s 5ms/step - loss: 0.0391 - accuracy: 0.9834 - val_loss: 0.0404 - val_accuracy: 0.9830\n",
      "Epoch 97/100\n",
      "679/679 [==============================] - 3s 5ms/step - loss: 0.0395 - accuracy: 0.9826 - val_loss: 0.0423 - val_accuracy: 0.9821\n",
      "Epoch 98/100\n",
      "679/679 [==============================] - 2s 3ms/step - loss: 0.0427 - accuracy: 0.9814 - val_loss: 0.0371 - val_accuracy: 0.9838\n",
      "Epoch 99/100\n",
      "679/679 [==============================] - 3s 4ms/step - loss: 0.0431 - accuracy: 0.9815 - val_loss: 0.0525 - val_accuracy: 0.9799\n",
      "Epoch 100/100\n",
      "679/679 [==============================] - 3s 4ms/step - loss: 0.0409 - accuracy: 0.9819 - val_loss: 0.0433 - val_accuracy: 0.9816\n"
     ]
    }
   ],
   "source": [
    "# Fitting ANN\n",
    "\n",
    "history =ann.fit(x_train,y_train,batch_size=32,epochs = 100,validation_data=(x_test, y_test))\n"
   ]
  },
  {
   "cell_type": "code",
   "execution_count": 41,
   "id": "f0e11225",
   "metadata": {},
   "outputs": [
    {
     "name": "stdout",
     "output_type": "stream",
     "text": [
      "170/170 [==============================] - 1s 6ms/step - loss: 0.0433 - accuracy: 0.9816\n"
     ]
    }
   ],
   "source": [
    "# Melakukan evaluasi \n",
    "\n",
    "evaluation = ann.evaluate(x_test, y_test)\n"
   ]
  },
  {
   "cell_type": "code",
   "execution_count": 42,
   "id": "6ba890b7",
   "metadata": {},
   "outputs": [
    {
     "data": {
      "text/plain": [
       "<matplotlib.legend.Legend at 0x271defac280>"
      ]
     },
     "execution_count": 42,
     "metadata": {},
     "output_type": "execute_result"
    },
    {
     "data": {
      "image/png": "[encoded data removed]",
      "text/plain": [
       "<Figure size 640x480 with 1 Axes>"
      ]
     },
     "metadata": {},
     "output_type": "display_data"
    }
   ],
   "source": [
    "# Visualisasi loss\n",
    "\n",
    "loss = history.history['loss']\n",
    "val_loss = history.history['val_loss']\n",
    "plt.plot(loss, label = 'training loss',color='purple')\n",
    "plt.plot(val_loss, label = 'validasi loss',color='magenta')\n",
    "plt.legend()\n"
   ]
  },
  {
   "cell_type": "code",
   "execution_count": 43,
   "id": "0193a1ed",
   "metadata": {},
   "outputs": [
    {
     "data": {
      "text/plain": [
       "<matplotlib.legend.Legend at 0x271deff84c0>"
      ]
     },
     "execution_count": 43,
     "metadata": {},
     "output_type": "execute_result"
    },
    {
     "data": {
      "image/png": "[encoded data removed]",
      "text/plain": [
       "<Figure size 640x480 with 1 Axes>"
      ]
     },
     "metadata": {},
     "output_type": "display_data"
    }
   ],
   "source": [
    "# Visualisasi akurasi\n",
    "\n",
    "accuracy = history.history['accuracy']\n",
    "val_accuracy = history.history['val_accuracy']\n",
    "plt.plot(accuracy, label = 'training accuracy',color='purple')\n",
    "plt.plot(val_accuracy, label = 'validasi accuracy',color='magenta')\n",
    "plt.legend()\n"
   ]
  },
  {
   "cell_type": "code",
   "execution_count": 44,
   "id": "774fcf20",
   "metadata": {},
   "outputs": [
    {
     "name": "stdout",
     "output_type": "stream",
     "text": [
      "170/170 [==============================] - 2s 3ms/step\n"
     ]
    }
   ],
   "source": [
    "\n",
    "ann_predict = np.argmax(ann.predict(x_test),axis=1)\n",
    "y_test = np.argmax(y_test,axis=1)\n"
   ]
  },
  {
   "cell_type": "code",
   "execution_count": 45,
   "id": "0544e40f",
   "metadata": {},
   "outputs": [
    {
     "name": "stdout",
     "output_type": "stream",
     "text": [
      "Classification Report Test Model (ANN) :\n",
      "              precision    recall  f1-score   support\n",
      "\n",
      "           0       0.98      1.00      0.99      3516\n",
      "           1       1.00      0.97      0.98      1039\n",
      "           2       0.97      0.95      0.96       850\n",
      "           3       0.50      0.50      0.50        22\n",
      "\n",
      "    accuracy                           0.98      5427\n",
      "   macro avg       0.86      0.85      0.86      5427\n",
      "weighted avg       0.98      0.98      0.98      5427\n",
      "\n"
     ]
    }
   ],
   "source": [
    "\n",
    "print('Classification Report Test Model (ANN) :')\n",
    "print(classification_report(y_test, ann_predict))\n"
   ]
  },
  {
   "cell_type": "code",
   "execution_count": 46,
   "id": "7ad06a9c",
   "metadata": {},
   "outputs": [
    {
     "data": {
      "text/plain": [
       "array([[3501,    0,    8,    7],\n",
       "       [  17, 1006,   14,    2],\n",
       "       [  39,    0,  809,    2],\n",
       "       [  11,    0,    0,   11]], dtype=int64)"
      ]
     },
     "execution_count": 46,
     "metadata": {},
     "output_type": "execute_result"
    }
   ],
   "source": [
    "# Evaluasi model ANN dengan confusion matrix\n",
    "\n",
    "cm = confusion_matrix(y_test, ann_predict)\n",
    "cm\n"
   ]
  },
  {
   "attachments": {},
   "cell_type": "markdown",
   "id": "8fac6b28",
   "metadata": {},
   "source": [
    "# Clustering"
   ]
  },
  {
   "cell_type": "code",
   "execution_count": 47,
   "id": "1a972abb",
   "metadata": {},
   "outputs": [],
   "source": [
    "# Memanggil data \n",
    "\n",
    "data=dP1.copy()\n"
   ]
  },
  {
   "cell_type": "code",
   "execution_count": 48,
   "id": "700cbfd6",
   "metadata": {},
   "outputs": [],
   "source": [
    "# Transformasi data dengan Standard Scaler\n",
    "\n",
    "columns = ['Value', 'Latitude', 'Longitude'] \n",
    "scl = StandardScaler()\n",
    "X_scl = scl.fit_transform(data[columns])\n",
    "X_scl = scl.transform(data[columns])\n",
    "\n",
    "data[columns]=X_scl\n",
    "data[columns]=X_scl\n"
   ]
  },
  {
   "cell_type": "code",
   "execution_count": 49,
   "id": "84c355e9",
   "metadata": {},
   "outputs": [
    {
     "data": {
      "text/html": [
       "<div>\n",
       "<style scoped>\n",
       "    .dataframe tbody tr th:only-of-type {\n",
       "        vertical-align: middle;\n",
       "    }\n",
       "\n",
       "    .dataframe tbody tr th {\n",
       "        vertical-align: top;\n",
       "    }\n",
       "\n",
       "    .dataframe thead th {\n",
       "        text-align: right;\n",
       "    }\n",
       "</style>\n",
       "<table border=\"1\" class=\"dataframe\">\n",
       "  <thead>\n",
       "    <tr style=\"text-align: right;\">\n",
       "      <th></th>\n",
       "      <th>siteType</th>\n",
       "      <th>Latitude</th>\n",
       "      <th>Longitude</th>\n",
       "      <th>Property</th>\n",
       "      <th>Value</th>\n",
       "      <th>SwimIcon</th>\n",
       "    </tr>\n",
       "  </thead>\n",
       "  <tbody>\n",
       "    <tr>\n",
       "      <th>0</th>\n",
       "      <td>2</td>\n",
       "      <td>0.908574</td>\n",
       "      <td>0.739143</td>\n",
       "      <td>0</td>\n",
       "      <td>-0.207308</td>\n",
       "      <td>0</td>\n",
       "    </tr>\n",
       "    <tr>\n",
       "      <th>1</th>\n",
       "      <td>2</td>\n",
       "      <td>0.908574</td>\n",
       "      <td>0.739143</td>\n",
       "      <td>0</td>\n",
       "      <td>-0.215333</td>\n",
       "      <td>0</td>\n",
       "    </tr>\n",
       "    <tr>\n",
       "      <th>2</th>\n",
       "      <td>2</td>\n",
       "      <td>0.908574</td>\n",
       "      <td>0.739143</td>\n",
       "      <td>0</td>\n",
       "      <td>-0.215682</td>\n",
       "      <td>0</td>\n",
       "    </tr>\n",
       "    <tr>\n",
       "      <th>3</th>\n",
       "      <td>2</td>\n",
       "      <td>0.908574</td>\n",
       "      <td>0.739143</td>\n",
       "      <td>0</td>\n",
       "      <td>-0.214286</td>\n",
       "      <td>0</td>\n",
       "    </tr>\n",
       "    <tr>\n",
       "      <th>5</th>\n",
       "      <td>2</td>\n",
       "      <td>0.908574</td>\n",
       "      <td>0.739143</td>\n",
       "      <td>0</td>\n",
       "      <td>-0.213937</td>\n",
       "      <td>0</td>\n",
       "    </tr>\n",
       "    <tr>\n",
       "      <th>...</th>\n",
       "      <td>...</td>\n",
       "      <td>...</td>\n",
       "      <td>...</td>\n",
       "      <td>...</td>\n",
       "      <td>...</td>\n",
       "      <td>...</td>\n",
       "    </tr>\n",
       "    <tr>\n",
       "      <th>70876</th>\n",
       "      <td>0</td>\n",
       "      <td>-0.738656</td>\n",
       "      <td>-1.389586</td>\n",
       "      <td>0</td>\n",
       "      <td>-0.177652</td>\n",
       "      <td>0</td>\n",
       "    </tr>\n",
       "    <tr>\n",
       "      <th>70877</th>\n",
       "      <td>0</td>\n",
       "      <td>-0.738656</td>\n",
       "      <td>-1.389586</td>\n",
       "      <td>0</td>\n",
       "      <td>-0.181141</td>\n",
       "      <td>0</td>\n",
       "    </tr>\n",
       "    <tr>\n",
       "      <th>70880</th>\n",
       "      <td>0</td>\n",
       "      <td>-0.738656</td>\n",
       "      <td>-1.389586</td>\n",
       "      <td>0</td>\n",
       "      <td>-0.031116</td>\n",
       "      <td>2</td>\n",
       "    </tr>\n",
       "    <tr>\n",
       "      <th>70883</th>\n",
       "      <td>0</td>\n",
       "      <td>-0.738656</td>\n",
       "      <td>-1.389586</td>\n",
       "      <td>0</td>\n",
       "      <td>-0.203470</td>\n",
       "      <td>0</td>\n",
       "    </tr>\n",
       "    <tr>\n",
       "      <th>70885</th>\n",
       "      <td>0</td>\n",
       "      <td>-0.738656</td>\n",
       "      <td>-1.389586</td>\n",
       "      <td>0</td>\n",
       "      <td>-0.121828</td>\n",
       "      <td>2</td>\n",
       "    </tr>\n",
       "  </tbody>\n",
       "</table>\n",
       "<p>27132 rows × 6 columns</p>\n",
       "</div>"
      ],
      "text/plain": [
       "       siteType  Latitude  Longitude  Property     Value  SwimIcon\n",
       "0             2  0.908574   0.739143         0 -0.207308         0\n",
       "1             2  0.908574   0.739143         0 -0.215333         0\n",
       "2             2  0.908574   0.739143         0 -0.215682         0\n",
       "3             2  0.908574   0.739143         0 -0.214286         0\n",
       "5             2  0.908574   0.739143         0 -0.213937         0\n",
       "...         ...       ...        ...       ...       ...       ...\n",
       "70876         0 -0.738656  -1.389586         0 -0.177652         0\n",
       "70877         0 -0.738656  -1.389586         0 -0.181141         0\n",
       "70880         0 -0.738656  -1.389586         0 -0.031116         2\n",
       "70883         0 -0.738656  -1.389586         0 -0.203470         0\n",
       "70885         0 -0.738656  -1.389586         0 -0.121828         2\n",
       "\n",
       "[27132 rows x 6 columns]"
      ]
     },
     "execution_count": 49,
     "metadata": {},
     "output_type": "execute_result"
    }
   ],
   "source": [
    "# Menampilkan data \n",
    "\n",
    "data\n"
   ]
  },
  {
   "cell_type": "code",
   "execution_count": 50,
   "id": "b9fdbe25",
   "metadata": {},
   "outputs": [],
   "source": [
    "# Mengambil subset data dari DataFrame\n",
    "\n",
    "X = data.iloc[:,[1,2,4]].values\n"
   ]
  },
  {
   "cell_type": "code",
   "execution_count": 51,
   "id": "750d31c2",
   "metadata": {},
   "outputs": [
    {
     "name": "stdout",
     "output_type": "stream",
     "text": [
      "[[ 0.90857426  0.7391427  -0.207308  ]\n",
      " [ 0.90857426  0.7391427  -0.21533261]\n",
      " [ 0.90857426  0.7391427  -0.21568151]\n",
      " ...\n",
      " [-0.73865628 -1.38958571 -0.0311155 ]\n",
      " [-0.73865628 -1.38958571 -0.20347015]\n",
      " [-0.73865628 -1.38958571 -0.12182847]]\n"
     ]
    }
   ],
   "source": [
    "# Mengubah variabel X menjadi array NumPy\n",
    "\n",
    "X = np.asarray(X)\n",
    "print(X)\n"
   ]
  },
  {
   "cell_type": "code",
   "execution_count": 52,
   "id": "a653f797",
   "metadata": {},
   "outputs": [
    {
     "name": "stderr",
     "output_type": "stream",
     "text": [
      "c:\\Users\\ACER\\anaconda3\\lib\\site-packages\\sklearn\\cluster\\_kmeans.py:870: FutureWarning: The default value of `n_init` will change from 10 to 'auto' in 1.4. Set the value of `n_init` explicitly to suppress the warning\n",
      "  warnings.warn(\n",
      "c:\\Users\\ACER\\anaconda3\\lib\\site-packages\\sklearn\\cluster\\_kmeans.py:870: FutureWarning: The default value of `n_init` will change from 10 to 'auto' in 1.4. Set the value of `n_init` explicitly to suppress the warning\n",
      "  warnings.warn(\n",
      "c:\\Users\\ACER\\anaconda3\\lib\\site-packages\\sklearn\\cluster\\_kmeans.py:870: FutureWarning: The default value of `n_init` will change from 10 to 'auto' in 1.4. Set the value of `n_init` explicitly to suppress the warning\n",
      "  warnings.warn(\n",
      "c:\\Users\\ACER\\anaconda3\\lib\\site-packages\\sklearn\\cluster\\_kmeans.py:870: FutureWarning: The default value of `n_init` will change from 10 to 'auto' in 1.4. Set the value of `n_init` explicitly to suppress the warning\n",
      "  warnings.warn(\n",
      "c:\\Users\\ACER\\anaconda3\\lib\\site-packages\\sklearn\\cluster\\_kmeans.py:870: FutureWarning: The default value of `n_init` will change from 10 to 'auto' in 1.4. Set the value of `n_init` explicitly to suppress the warning\n",
      "  warnings.warn(\n",
      "c:\\Users\\ACER\\anaconda3\\lib\\site-packages\\sklearn\\cluster\\_kmeans.py:870: FutureWarning: The default value of `n_init` will change from 10 to 'auto' in 1.4. Set the value of `n_init` explicitly to suppress the warning\n",
      "  warnings.warn(\n",
      "c:\\Users\\ACER\\anaconda3\\lib\\site-packages\\sklearn\\cluster\\_kmeans.py:870: FutureWarning: The default value of `n_init` will change from 10 to 'auto' in 1.4. Set the value of `n_init` explicitly to suppress the warning\n",
      "  warnings.warn(\n",
      "c:\\Users\\ACER\\anaconda3\\lib\\site-packages\\sklearn\\cluster\\_kmeans.py:870: FutureWarning: The default value of `n_init` will change from 10 to 'auto' in 1.4. Set the value of `n_init` explicitly to suppress the warning\n",
      "  warnings.warn(\n",
      "c:\\Users\\ACER\\anaconda3\\lib\\site-packages\\sklearn\\cluster\\_kmeans.py:870: FutureWarning: The default value of `n_init` will change from 10 to 'auto' in 1.4. Set the value of `n_init` explicitly to suppress the warning\n",
      "  warnings.warn(\n",
      "c:\\Users\\ACER\\anaconda3\\lib\\site-packages\\sklearn\\cluster\\_kmeans.py:870: FutureWarning: The default value of `n_init` will change from 10 to 'auto' in 1.4. Set the value of `n_init` explicitly to suppress the warning\n",
      "  warnings.warn(\n"
     ]
    },
    {
     "data": {
      "image/png": "[encoded data removed]",
      "text/plain": [
       "<Figure size 640x480 with 1 Axes>"
      ]
     },
     "metadata": {},
     "output_type": "display_data"
    }
   ],
   "source": [
    "# Optimasi K-Means dengan metode elbow untuk menentukan jumlah klaster yang tepat\n",
    "\n",
    "from sklearn.cluster import KMeans\n",
    "wcss = []\n",
    "for i in range(1, 11):\n",
    "    kmeans = KMeans(n_clusters = i)\n",
    "    kmeans.fit(X)\n",
    "    wcss.append(kmeans.inertia_)\n",
    "plt.plot(range(1, 11), wcss)\n",
    "plt.title('Elbow Method')\n",
    "plt.xlabel('Cluster Number')\n",
    "plt.ylabel('WCSS')\n",
    "plt.show()\n"
   ]
  },
  {
   "cell_type": "code",
   "execution_count": 53,
   "id": "917b4f40",
   "metadata": {},
   "outputs": [
    {
     "data": {
      "image/png": "[encoded data removed]",
      "text/plain": [
       "<Figure size 640x480 with 1 Axes>"
      ]
     },
     "metadata": {},
     "output_type": "display_data"
    }
   ],
   "source": [
    "# Proses K-Means Kluster\n",
    "\n",
    "kmeans = KMeans(n_clusters=2,init='k-means++',\n",
    "               max_iter=500,n_init=10, random_state=0)\n",
    "y_kmeans = kmeans.fit_predict(X)\n",
    "plt.scatter(X[:,0],X[:,1],c=kmeans.labels_, cmap='rainbow')\n",
    "plt.scatter(kmeans.cluster_centers_[:,0],\n",
    "           kmeans.cluster_centers_[:,1],s=500, c=\"black\")\n",
    "plt.show()\n"
   ]
  },
  {
   "cell_type": "code",
   "execution_count": 54,
   "id": "dd1de966",
   "metadata": {},
   "outputs": [
    {
     "data": {
      "image/png": "[encoded data removed]",
      "text/plain": [
       "<Figure size 640x480 with 1 Axes>"
      ]
     },
     "metadata": {},
     "output_type": "display_data"
    }
   ],
   "source": [
    "# Visualisasi hasil clusters\n",
    "\n",
    "plt.scatter(X[y_kmeans == 0, 0], X[y_kmeans == 0, 1], s = 100, c = 'purple', label = 'Cluster 1')\n",
    "plt.scatter(X[y_kmeans == 1, 0], X[y_kmeans == 1, 1], s = 100, c = 'magenta', label = 'Cluster 2')\n",
    "plt.scatter(kmeans.cluster_centers_[:, 0], kmeans.cluster_centers_[:, 1], s = 500, c = 'black', label = 'Centroids')\n",
    "plt.legend()\n",
    "plt.show()\n"
   ]
  },
  {
   "cell_type": "code",
   "execution_count": 55,
   "id": "b51a078f",
   "metadata": {},
   "outputs": [
    {
     "data": {
      "image/png": "[encoded data removed]",
      "text/plain": [
       "<Figure size 640x480 with 1 Axes>"
      ]
     },
     "metadata": {},
     "output_type": "display_data"
    }
   ],
   "source": [
    "# Visualisasi scatter plot 3D \n",
    "\n",
    "import matplotlib.pyplot as plt\n",
    "from mpl_toolkits.mplot3d import Axes3D\n",
    "\n",
    "fig = plt.figure()\n",
    "ax = fig.add_subplot(111, projection='3d')\n",
    "\n",
    "ax.scatter(X[:, 0], X[:, 1], X[:, 2], c=kmeans.labels_, cmap='rainbow')\n",
    "ax.scatter(kmeans.cluster_centers_[:, 0], kmeans.cluster_centers_[:, 1],\n",
    "           kmeans.cluster_centers_[:, 2], c='black', s=500, alpha=1)\n",
    "plt.show()\n"
   ]
  },
  {
   "cell_type": "code",
   "execution_count": 56,
   "id": "ca376dea",
   "metadata": {},
   "outputs": [],
   "source": [
    "import pickle\n",
    "\n",
    "# Save the model to a file\n",
    "\n",
    "with open('dtr.pkl', 'wb') as file:\n",
    "    pickle.dump(DTR, file)\n",
    "    "
   ]
  },
  {
   "cell_type": "code",
   "execution_count": 57,
   "id": "2f9212f3",
   "metadata": {},
   "outputs": [],
   "source": [
    "# Pickle Scaler model\n",
    "\n",
    "pickle.dump(scaler, open(\"Sc.pkl\", \"wb\"))\n"
   ]
  },
  {
   "cell_type": "code",
   "execution_count": null,
   "id": "879b17c4",
   "metadata": {},
   "outputs": [],
   "source": []
  }
 ],
 "metadata": {
  "kernelspec": {
   "display_name": "Python 3 (ipykernel)",
   "language": "python",
   "name": "python3"
  },
  "language_info": {
   "codemirror_mode": {
    "name": "ipython",
    "version": 3
   },
   "file_extension": ".py",
   "mimetype": "text/x-python",
   "name": "python",
   "nbconvert_exporter": "python",
   "pygments_lexer": "ipython3",
   "version": "3.9.13"
  }
 },
 "nbformat": 4,
 "nbformat_minor": 5
}
